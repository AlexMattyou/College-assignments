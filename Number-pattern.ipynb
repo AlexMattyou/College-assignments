{
  "nbformat": 4,
  "nbformat_minor": 0,
  "metadata": {
    "colab": {
      "provenance": [],
      "authorship_tag": "ABX9TyPfmbRxa6/29Mnq13pGa9fw",
      "include_colab_link": true
    },
    "kernelspec": {
      "name": "python3",
      "display_name": "Python 3"
    },
    "language_info": {
      "name": "python"
    }
  },
  "cells": [
    {
      "cell_type": "markdown",
      "metadata": {
        "id": "view-in-github",
        "colab_type": "text"
      },
      "source": [
        "<a href=\"https://colab.research.google.com/github/AlexMattyou/College-assignments/blob/main/Number-pattern.ipynb\" target=\"_parent\"><img src=\"https://colab.research.google.com/assets/colab-badge.svg\" alt=\"Open In Colab\"/></a>"
      ]
    },
    {
      "cell_type": "code",
      "source": [
        "c = 'O'\n",
        "g = ' '\n",
        "def p(x):\n",
        "  print(x, end=' ')\n",
        "def digital(a):\n",
        "  print(end='\\n')\n",
        "  for x in range(7):\n",
        "    for y in range(5):\n",
        "      if a=='A':\n",
        "        p(c) if (x in[0,3] and y in [1,2,3])or(y in[0,4] and x !=0) else p(g)\n",
        "      elif a=='B':\n",
        "        p(c) if (x in[0,3,6]and y !=4)or(y in[0,4] and x not in[0,3,6]) else p(g)\n",
        "      elif a=='C':\n",
        "        p(c) if (x in[0,6]and y !=0)or(y ==0 and x not in[0,6]) else p(g)\n",
        "      elif a=='D':\n",
        "        p(c) if (x in[0,6]and y !=4)or(y in[0,4] and x not in[0,6]) else p(g)\n",
        "      elif a=='E':\n",
        "        p(c) if (x in[0,3,6]and (x!=3 or y!=4))or(y ==0) else p(g)\n",
        "      elif a=='F':\n",
        "        p(c) if (x in[0,3]and (x!=3 or y!=4))or(y in[0]) else p(g)\n",
        "      elif a=='G':\n",
        "        p(c) if (x == 0 and  y!=0)or(x ==6 and y not in[0,4])or(x ==3 and y != 1)or(y == 0 and x not in[0,6])or(y ==4 and x not in[1,2,6]) else p(g)\n",
        "      elif a=='H':\n",
        "        p(c) if x ==3 or y in [0,4] else p(g)\n",
        "      elif a=='I':\n",
        "        p(c) if x in[0,6] or y ==2 else p(g)\n",
        "      elif a=='J':\n",
        "        p(c) if (x ==6 and y not in [0,3,4])or(y ==3 and x!=6)or(y ==0 and x in[4,5]) else p(g)\n",
        "      elif a=='K':\n",
        "        p(c) if (x-2 == y)or(x-4 == -y)or(y ==0) else p(g)\n",
        "      elif a=='L':\n",
        "        p(c) if x == 6 or y ==0 else p(g)\n",
        "      elif a=='M':\n",
        "        p(c) if (x == 1 and y!= 2)or(y in [0,4])or(y ==2 and x in[2,3]) else p(g)\n",
        "      elif a=='N':\n",
        "        p(c) if (x-1 == y)or y in [0,4] else p(g)\n",
        "      elif a=='O':\n",
        "        p(c) if (x in[0,6]and y not in[0,4])or(y in [0,4]and x not in[0,6]) else p(g)\n",
        "      elif a=='P':\n",
        "        p(c) if (x in[0,3]and y !=4)or(x in [1,2]and y == 4)or(y ==0) else p(g)\n",
        "      elif a=='Q':\n",
        "        p(c) if (x in[0,6]and y not in[0,4])or(y in [0,4]and x not in[0,6])or(x>3 and x-2 == y) else p(g)\n",
        "      elif a=='R':\n",
        "        p(c) if (x in[0,3]and y !=4)or(x-2 == y)or(x in [1,2]and y == 4)or(y ==0) else p(g)\n",
        "      elif a=='S':\n",
        "        p(c) if (x ==0 and y != x)or(x in[3,6] and y!=4)or(x in[1,2] and y ==0)or(x in[4,5] and y ==4) else p(g)\n",
        "      elif a=='T':\n",
        "        p(c) if x == 0 or y ==2 else p(g)\n",
        "      elif a=='U':\n",
        "        p(c) if (x ==6 and y not in[0,4])or(y in[0,4] and x != 6) else p(g)\n",
        "      elif a=='V':\n",
        "        p(c) if (y in[0,4] and x not in[5,6])or(x-4 == y)or((-x+8 == y)) else p(g)\n",
        "      elif a=='W':\n",
        "        p(c) if (y in[0,4])or(x ==5 and y != 2)or(y ==2 and x in[3,4]) else p(g)\n",
        "      elif a=='X':\n",
        "        p(c) if (x-1 == y)or(-x+5 == y)or(x in[0,6] and y in[0,4]) else p(g)\n",
        "      elif a=='Y':\n",
        "        p(c) if (y ==2 and x>2)or(y in[0,4] and x in[0,1])or(x ==2 and y in[1,3]) else p(g)\n",
        "      elif a=='Z':\n",
        "        p(c) if (x in[0,6])or(-x+5 == y) else p(g)\n",
        "      else:\n",
        "        p('.')\n",
        "    print(end='\\n')\n",
        "i = [x.upper() for x in input('Enter a word: ').strip()]\n",
        "for x in i:\n",
        "  digital(x)"
      ],
      "metadata": {
        "id": "ckU9lGtceeig",
        "colab": {
          "base_uri": "https://localhost:8080/"
        },
        "outputId": "57e3e82f-aa2d-4f7e-94a6-542a9512a4b1"
      },
      "execution_count": null,
      "outputs": [
        {
          "output_type": "stream",
          "name": "stdout",
          "text": [
            "Enter a word: grace\n",
            "\n",
            "  O O O O \n",
            "O         \n",
            "O         \n",
            "O   O O O \n",
            "O       O \n",
            "O       O \n",
            "  O O O   \n",
            "\n",
            "O O O O   \n",
            "O       O \n",
            "O       O \n",
            "O O O O   \n",
            "O   O     \n",
            "O     O   \n",
            "O       O \n",
            "\n",
            "  O O O   \n",
            "O       O \n",
            "O       O \n",
            "O O O O O \n",
            "O       O \n",
            "O       O \n",
            "O       O \n",
            "\n",
            "  O O O O \n",
            "O         \n",
            "O         \n",
            "O         \n",
            "O         \n",
            "O         \n",
            "  O O O O \n",
            "\n",
            "O O O O O \n",
            "O         \n",
            "O         \n",
            "O O O O   \n",
            "O         \n",
            "O         \n",
            "O O O O O \n"
          ]
        }
      ]
    },
    {
      "cell_type": "code",
      "source": [
        "c = 'O'\n",
        "g = ' '\n",
        "def p(x):\n",
        "  print(x, end=' ')\n",
        "def digital(a):\n",
        "  print(end='\\n')\n",
        "  for x in range(7):\n",
        "    for y in range(5):\n",
        "      if a=='A':\n",
        "        p(c) if (x in[0,3] and y in [1,2,3])or(y in[0,4] and x !=0) else p(g)\n",
        "      elif a=='C':\n",
        "        p(c) if (x in[0,6]and y !=0)or(y ==0 and x not in[0,6]) else p(g)\n",
        "      elif a=='E':\n",
        "        p(c) if (x in[0,3,6]and (x!=3 or y!=4))or(y ==0) else p(g)\n",
        "      elif a=='G':\n",
        "        p(c) if (x == 0 and  y!=0)or(x ==6 and y not in[0,4])or(x ==3 and y != 1)or(y == 0 and x not in[0,6])or(y ==4 and x not in[1,2,6]) else p(g)\n",
        "      elif a=='R':\n",
        "        p(c) if (x in[0,3]and y !=4)or(x-2 == y)or(x in [1,2]and y == 4)or(y ==0) else p(g)\n",
        "    print(end='\\n')\n",
        "i = 'GRACE'\n",
        "for x in i:\n",
        "  digital(x)"
      ],
      "metadata": {
        "colab": {
          "base_uri": "https://localhost:8080/"
        },
        "id": "cnNaZtPNu8JS",
        "outputId": "420b90c0-7e36-4f85-fff6-a42b000592b4"
      },
      "execution_count": null,
      "outputs": [
        {
          "output_type": "stream",
          "name": "stdout",
          "text": [
            "\n",
            "  O O O O \n",
            "O         \n",
            "O         \n",
            "O   O O O \n",
            "O       O \n",
            "O       O \n",
            "  O O O   \n",
            "\n",
            "O O O O   \n",
            "O       O \n",
            "O       O \n",
            "O O O O   \n",
            "O   O     \n",
            "O     O   \n",
            "O       O \n",
            "\n",
            "  O O O   \n",
            "O       O \n",
            "O       O \n",
            "O O O O O \n",
            "O       O \n",
            "O       O \n",
            "O       O \n",
            "\n",
            "  O O O O \n",
            "O         \n",
            "O         \n",
            "O         \n",
            "O         \n",
            "O         \n",
            "  O O O O \n",
            "\n",
            "O O O O O \n",
            "O         \n",
            "O         \n",
            "O O O O   \n",
            "O         \n",
            "O         \n",
            "O O O O O \n"
          ]
        }
      ]
    },
    {
      "cell_type": "code",
      "source": [
        "## End"
      ],
      "metadata": {
        "id": "w8hs_yw9v0o8"
      },
      "execution_count": null,
      "outputs": []
    }
  ]
}