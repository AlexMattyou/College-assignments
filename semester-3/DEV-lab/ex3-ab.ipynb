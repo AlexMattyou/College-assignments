{
 "cells": [
  {
   "cell_type": "markdown",
   "metadata": {},
   "source": [
    "## Numpy"
   ]
  },
  {
   "cell_type": "code",
   "execution_count": 67,
   "metadata": {},
   "outputs": [],
   "source": [
    "# import numpy:\n",
    "\n",
    "import numpy as np"
   ]
  },
  {
   "cell_type": "code",
   "execution_count": 68,
   "metadata": {},
   "outputs": [
    {
     "name": "stdout",
     "output_type": "stream",
     "text": [
      "[1 2 3 4 5]\n",
      "<class 'numpy.ndarray'>\n"
     ]
    }
   ],
   "source": [
    "# ndarray object:\n",
    "\n",
    "arr = np.array([1,2,3,4,5])\n",
    "print(arr)\n",
    "print(type(arr))"
   ]
  },
  {
   "cell_type": "code",
   "execution_count": 69,
   "metadata": {},
   "outputs": [
    {
     "name": "stdout",
     "output_type": "stream",
     "text": [
      "[[[1 2]\n",
      "  [3 4]]\n",
      "\n",
      " [[2 1]\n",
      "  [4 5]]]\n",
      "3\n",
      "(2, 2, 2)\n"
     ]
    }
   ],
   "source": [
    "# ndim and shape:\n",
    "\n",
    "a = np.array([[[1,2],[3,4]],[[2,1],[4,5]]])\n",
    "print(a)\n",
    "print(a.ndim)\n",
    "print(a.shape)"
   ]
  },
  {
   "cell_type": "code",
   "execution_count": 70,
   "metadata": {},
   "outputs": [
    {
     "name": "stdout",
     "output_type": "stream",
     "text": [
      "1\n",
      "4\n",
      "4\n",
      "5\n"
     ]
    }
   ],
   "source": [
    "# array indexing:\n",
    "\n",
    "print(arr[0])\n",
    "print(arr[0]+arr[2])\n",
    "print(a[0,1,1])\n",
    "print(a[-1][-1][-1])"
   ]
  },
  {
   "cell_type": "code",
   "execution_count": 71,
   "metadata": {},
   "outputs": [
    {
     "name": "stdout",
     "output_type": "stream",
     "text": [
      "[[[2 1]\n",
      "  [4 5]]]\n",
      "[[1 2]]\n"
     ]
    }
   ],
   "source": [
    "# array slicing:\n",
    "\n",
    "print(a[1:4])\n",
    "print(a[0, 0:1])"
   ]
  },
  {
   "cell_type": "code",
   "execution_count": 72,
   "metadata": {},
   "outputs": [
    {
     "name": "stdout",
     "output_type": "stream",
     "text": [
      "[1 2 3 4]\n",
      "int32\n"
     ]
    }
   ],
   "source": [
    "# data types:\n",
    "\n",
    "b = np.array([1,2,3,4],dtype='i4')\n",
    "print(b)\n",
    "print(b.dtype)"
   ]
  },
  {
   "cell_type": "code",
   "execution_count": 73,
   "metadata": {},
   "outputs": [
    {
     "name": "stdout",
     "output_type": "stream",
     "text": [
      "[1. 2. 3. 4.]\n",
      "float64\n"
     ]
    }
   ],
   "source": [
    "# type conversion:\n",
    "\n",
    "arr = b.astype(float)\n",
    "print(arr)\n",
    "print(arr.dtype)"
   ]
  },
  {
   "cell_type": "code",
   "execution_count": 74,
   "metadata": {},
   "outputs": [
    {
     "name": "stdout",
     "output_type": "stream",
     "text": [
      "None\n",
      "[1. 2. 3. 4.]\n"
     ]
    }
   ],
   "source": [
    "# copy and view:\n",
    "\n",
    "x = arr.copy()\n",
    "y = arr.view()\n",
    "print(x.base)\n",
    "print(y.base)"
   ]
  },
  {
   "cell_type": "code",
   "execution_count": 75,
   "metadata": {},
   "outputs": [
    {
     "name": "stdout",
     "output_type": "stream",
     "text": [
      "[[[1 2]\n",
      "  [3 4]]\n",
      "\n",
      " [[2 1]\n",
      "  [4 5]]]\n",
      "[[1 2]\n",
      " [3 4]\n",
      " [2 1]\n",
      " [4 5]]\n",
      "(4, 2)\n"
     ]
    }
   ],
   "source": [
    "# reshaping ndarray:\n",
    "\n",
    "print(a)\n",
    "arr = a.reshape(4,2)\n",
    "print(arr)\n",
    "print(arr.shape)"
   ]
  },
  {
   "cell_type": "code",
   "execution_count": 76,
   "metadata": {},
   "outputs": [
    {
     "name": "stdout",
     "output_type": "stream",
     "text": [
      "1 2 3 4 2 1 4 5 "
     ]
    }
   ],
   "source": [
    "# itterate ndarray:\n",
    "\n",
    "for x in np.nditer(a):\n",
    "    print(x,end=' ')"
   ]
  },
  {
   "cell_type": "code",
   "execution_count": 77,
   "metadata": {},
   "outputs": [
    {
     "name": "stdout",
     "output_type": "stream",
     "text": [
      "(0, 0, 0) 1\n",
      "(0, 0, 1) 2\n",
      "(0, 1, 0) 3\n",
      "(0, 1, 1) 4\n",
      "(1, 0, 0) 2\n",
      "(1, 0, 1) 1\n",
      "(1, 1, 0) 4\n",
      "(1, 1, 1) 5\n"
     ]
    }
   ],
   "source": [
    "# enumerate ndarray\n",
    "\n",
    "for idx, x in np.ndenumerate(a):\n",
    "    print(idx,x)"
   ]
  },
  {
   "cell_type": "markdown",
   "metadata": {},
   "source": [
    "## Pandas"
   ]
  },
  {
   "cell_type": "code",
   "execution_count": 78,
   "metadata": {},
   "outputs": [],
   "source": [
    "# import pandas:\n",
    "\n",
    "import pandas as pd"
   ]
  },
  {
   "cell_type": "code",
   "execution_count": 79,
   "metadata": {},
   "outputs": [
    {
     "name": "stdout",
     "output_type": "stream",
     "text": [
      "0    1\n",
      "1    7\n",
      "2    2\n",
      "dtype: int64\n"
     ]
    }
   ],
   "source": [
    "# pandas series:\n",
    "\n",
    "a = pd.Series([1,7,2])\n",
    "print(a)"
   ]
  },
  {
   "cell_type": "code",
   "execution_count": 80,
   "metadata": {},
   "outputs": [
    {
     "name": "stdout",
     "output_type": "stream",
     "text": [
      "1\n",
      "1\n"
     ]
    }
   ],
   "source": [
    "# set custom index:\n",
    "\n",
    "a.index = ['x', 'y','z']\n",
    "print(a.iloc[0])\n",
    "print(a['x'])"
   ]
  },
  {
   "cell_type": "code",
   "execution_count": 81,
   "metadata": {},
   "outputs": [
    {
     "name": "stdout",
     "output_type": "stream",
     "text": [
      "     Name  Age\n",
      "0    Alex   18\n",
      "1  Allson   19\n"
     ]
    }
   ],
   "source": [
    "# pandas dataframe:\n",
    "\n",
    "data1 = {\n",
    "    \"Name\": [\"Alex\",\"Allson\"],\n",
    "    \"Age\": [18,19],\n",
    "}\n",
    "df1 = pd.DataFrame(data1)\n",
    "print(df1)"
   ]
  },
  {
   "cell_type": "code",
   "execution_count": 82,
   "metadata": {},
   "outputs": [
    {
     "name": "stdout",
     "output_type": "stream",
     "text": [
      "Name    Alex\n",
      "Age       18\n",
      "Name: 0, dtype: object\n",
      "Allson\n"
     ]
    },
    {
     "name": "stderr",
     "output_type": "stream",
     "text": [
      "C:\\Users\\alexm\\AppData\\Local\\Temp\\ipykernel_26368\\1304915962.py:4: FutureWarning: Series.__getitem__ treating keys as positions is deprecated. In a future version, integer keys will always be treated as labels (consistent with DataFrame behavior). To access a value by position, use `ser.iloc[pos]`\n",
      "  print(df1.iloc[1][0])\n"
     ]
    }
   ],
   "source": [
    "# locate:\n",
    "\n",
    "print(df1.iloc[0])\n",
    "print(df1.iloc[1][0])"
   ]
  },
  {
   "cell_type": "code",
   "execution_count": 83,
   "metadata": {},
   "outputs": [
    {
     "name": "stdout",
     "output_type": "stream",
     "text": [
      "      Name  Age\n",
      "s1    Alex   18\n",
      "s2  Allson   19\n"
     ]
    }
   ],
   "source": [
    "# set custom index:\n",
    "\n",
    "df1.index = ['s1','s2']\n",
    "print(df1)"
   ]
  },
  {
   "cell_type": "code",
   "execution_count": 84,
   "metadata": {},
   "outputs": [
    {
     "name": "stdout",
     "output_type": "stream",
     "text": [
      "     Name   Age\n",
      "0    Alex    18\n",
      "1  Allson    19\n",
      "     Name  Age\n",
      "0    Alex   18\n",
      "1  Allson   19\n"
     ]
    }
   ],
   "source": [
    "# read from csv or json file:\n",
    "\n",
    "df = pd.read_csv('data1.csv')\n",
    "print(df)\n",
    "df = pd.read_json('data1.json')\n",
    "print(df)"
   ]
  },
  {
   "cell_type": "code",
   "execution_count": 85,
   "metadata": {},
   "outputs": [
    {
     "name": "stdout",
     "output_type": "stream",
     "text": [
      "             Age\n",
      "count   2.000000\n",
      "mean   18.500000\n",
      "std     0.707107\n",
      "min    18.000000\n",
      "25%    18.250000\n",
      "50%    18.500000\n",
      "75%    18.750000\n",
      "max    19.000000\n"
     ]
    }
   ],
   "source": [
    "# describe data:\n",
    "\n",
    "print(df1.describe())"
   ]
  },
  {
   "cell_type": "code",
   "execution_count": 86,
   "metadata": {},
   "outputs": [
    {
     "name": "stdout",
     "output_type": "stream",
     "text": [
      "      Name  Age\n",
      "s1    Alex   18\n",
      "s2  Allson   19\n",
      "2     Guru   18\n"
     ]
    }
   ],
   "source": [
    "# adding new data:\n",
    "\n",
    "df1.loc[len(df1)] = [\"Guru\", 18]\n",
    "print(df1)"
   ]
  },
  {
   "cell_type": "code",
   "execution_count": 87,
   "metadata": {},
   "outputs": [
    {
     "name": "stdout",
     "output_type": "stream",
     "text": [
      "      Name  Age  Number\n",
      "s1    Alex   18       1\n",
      "s2  Allson   19       7\n",
      "2     Guru   18       2\n"
     ]
    }
   ],
   "source": [
    "# insert column:\n",
    "\n",
    "df1.insert(2,\"Number\",a.tolist())\n",
    "print(df1)"
   ]
  },
  {
   "cell_type": "code",
   "execution_count": 88,
   "metadata": {},
   "outputs": [
    {
     "name": "stdout",
     "output_type": "stream",
     "text": [
      "      Name  Age\n",
      "s1    Alex   18\n",
      "s2  Allson   19\n",
      "2     Guru   18\n"
     ]
    }
   ],
   "source": [
    "# drop column:\n",
    "\n",
    "df1 = df1.drop(\"Number\",axis=1)\n",
    "print(df1)"
   ]
  }
 ],
 "metadata": {
  "kernelspec": {
   "display_name": "Python 3.11.2 64-bit",
   "language": "python",
   "name": "python3"
  },
  "language_info": {
   "codemirror_mode": {
    "name": "ipython",
    "version": 3
   },
   "file_extension": ".py",
   "mimetype": "text/x-python",
   "name": "python",
   "nbconvert_exporter": "python",
   "pygments_lexer": "ipython3",
   "version": "3.10.9"
  },
  "orig_nbformat": 4,
  "vscode": {
   "interpreter": {
    "hash": "492362778aaabefcdaa1683135014b8f8664a6b8c347e05cbc03d0c2e83f5305"
   }
  }
 },
 "nbformat": 4,
 "nbformat_minor": 2
}
