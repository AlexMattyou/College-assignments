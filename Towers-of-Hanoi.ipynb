{
 "cells": [
  {
   "cell_type": "code",
   "execution_count": 1,
   "metadata": {},
   "outputs": [
    {
     "name": "stdout",
     "output_type": "stream",
     "text": [
      "       |                 |                 |          \n",
      "      ###                |                 |          \n",
      "    #######              |                 |          \n",
      "  ###########            |                 |          \n",
      "[[[[[[[|]]]]]]]   [[[[[[[|]]]]]]]   [[[[[[[|]]]]]]]   \n",
      "\n",
      "Move disk 1 from rod A to rod C\n",
      "       |                 |                 |          \n",
      "       |                 |                 |          \n",
      "    #######              |                 |          \n",
      "  ###########            |                ###         \n",
      "[[[[[[[|]]]]]]]   [[[[[[[|]]]]]]]   [[[[[[[|]]]]]]]   \n",
      "\n",
      "Move disk 2 from rod A to rod B\n",
      "       |                 |                 |          \n",
      "       |                 |                 |          \n",
      "       |                 |                 |          \n",
      "  ###########         #######             ###         \n",
      "[[[[[[[|]]]]]]]   [[[[[[[|]]]]]]]   [[[[[[[|]]]]]]]   \n",
      "\n",
      "Move disk 1 from rod C to rod B\n",
      "       |                 |                 |          \n",
      "       |                 |                 |          \n",
      "       |                ###                |          \n",
      "  ###########         #######              |          \n",
      "[[[[[[[|]]]]]]]   [[[[[[[|]]]]]]]   [[[[[[[|]]]]]]]   \n",
      "\n",
      "Move disk 3 from rod A to rod C\n",
      "       |                 |                 |          \n",
      "       |                 |                 |          \n",
      "       |                ###                |          \n",
      "       |              #######         ###########     \n",
      "[[[[[[[|]]]]]]]   [[[[[[[|]]]]]]]   [[[[[[[|]]]]]]]   \n",
      "\n",
      "Move disk 1 from rod B to rod A\n",
      "       |                 |                 |          \n",
      "       |                 |                 |          \n",
      "       |                 |                 |          \n",
      "      ###             #######         ###########     \n",
      "[[[[[[[|]]]]]]]   [[[[[[[|]]]]]]]   [[[[[[[|]]]]]]]   \n",
      "\n",
      "Move disk 2 from rod B to rod C\n",
      "       |                 |                 |          \n",
      "       |                 |                 |          \n",
      "       |                 |              #######       \n",
      "      ###                |            ###########     \n",
      "[[[[[[[|]]]]]]]   [[[[[[[|]]]]]]]   [[[[[[[|]]]]]]]   \n",
      "\n",
      "Move disk 1 from rod A to rod C\n",
      "       |                 |                 |          \n",
      "       |                 |                ###         \n",
      "       |                 |              #######       \n",
      "       |                 |            ###########     \n",
      "[[[[[[[|]]]]]]]   [[[[[[[|]]]]]]]   [[[[[[[|]]]]]]]   \n",
      "\n"
     ]
    }
   ],
   "source": [
    "E = '       |       '\n",
    "A = '      ###      '\n",
    "B = '    #######    '\n",
    "C = '  ###########  '\n",
    "S = '[[[[[[[|]]]]]]]'\n",
    "s1 = [E,A,B,C,S]\n",
    "s2 = [E,E,E,E,S]\n",
    "s3 = [E,E,E,E,S]\n",
    "stands = [s1,s2,s3]\n",
    "\n",
    "def arg(n,s,d):\n",
    "  frset,toset = 1,1\n",
    "  global stand\n",
    "  disc = A if n == 1 else B if n == 2 else C\n",
    "  fr = s1 if s == 'A' else s2 if s == 'B' else s3\n",
    "  to = s1 if d == 'A' else s2 if d == 'B' else s3\n",
    "  for i in range(3,0,-1):\n",
    "    if fr[i] == disc and frset:fr[i],frset = E,0\n",
    "    if to[i] == E and toset:to[i],toset = disc,0\n",
    "  disp()\n",
    "def disp():\n",
    "  for l in range(5):\n",
    "    for sts in stands:\n",
    "      print(sts[l],end='   ')\n",
    "    print()\n",
    "  print()\n",
    "disp()\n",
    "\n",
    "def hanoi(n, s, d, x):\n",
    "    if n == 0:\n",
    "        return\n",
    "    hanoi(n-1, s, x, d)\n",
    "    print(\"Move disk\", n, \"from rod\", s, \"to rod\", d)\n",
    "    arg(n,s,d)\n",
    "    hanoi(n-1, x, d, s)\n",
    "hanoi(3, 'A', 'C', 'B')"
   ]
  }
 ],
 "metadata": {
  "kernelspec": {
   "display_name": "Python 3",
   "language": "python",
   "name": "python3"
  },
  "language_info": {
   "codemirror_mode": {
    "name": "ipython",
    "version": 3
   },
   "file_extension": ".py",
   "mimetype": "text/x-python",
   "name": "python",
   "nbconvert_exporter": "python",
   "pygments_lexer": "ipython3",
   "version": "3.10.5"
  },
  "orig_nbformat": 4,
  "vscode": {
   "interpreter": {
    "hash": "9cba196fd95038b792069c4c13deb95aa682591ebee981b4ab7f9261a972a9d4"
   }
  }
 },
 "nbformat": 4,
 "nbformat_minor": 2
}
