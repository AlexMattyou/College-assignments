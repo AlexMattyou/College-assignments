{
 "cells": [
  {
   "cell_type": "code",
   "execution_count": 1,
   "metadata": {},
   "outputs": [
    {
     "name": "stdout",
     "output_type": "stream",
     "text": [
      "Updated DataFrame:\n",
      "       Name  Age         City  Salary Country     Tax\n",
      "0    Alice   25     New York   70000     USA  7000.0\n",
      "1      Bob   28  Los Angeles   80000     USA  8000.0\n",
      "2  Charlie   23      Chicago   50000     USA  5000.0\n",
      "3    David   33      Houston   90000     USA  9000.0\n",
      "4      Eva   30      Phoenix   60000     USA  6000.0\n",
      "\n",
      "High Salary DataFrame:\n",
      "     Name  Age         City  Salary Country     Tax\n",
      "0  Alice   25     New York   70000     USA  7000.0\n",
      "1    Bob   28  Los Angeles   80000     USA  8000.0\n",
      "3  David   33      Houston   90000     USA  9000.0\n",
      "\n",
      "Average Salary by City:\n",
      " City\n",
      "Chicago        50000.0\n",
      "Houston        90000.0\n",
      "Los Angeles    80000.0\n",
      "New York       70000.0\n",
      "Phoenix        60000.0\n",
      "Name: Salary, dtype: float64\n"
     ]
    }
   ],
   "source": [
    "import pandas as pd\n",
    "\n",
    "data = {\n",
    "    'Name': ['Alice', 'Bob', 'Charlie', 'David', 'Eva'],\n",
    "    'Age': [24, 27, 22, 32, 29],\n",
    "    'City': ['New York', 'Los Angeles', 'Chicago', 'Houston', 'Phoenix'],\n",
    "    'Salary': [70000, 80000, 50000, 90000, 60000]\n",
    "}\n",
    "df = pd.DataFrame(data)\n",
    "\n",
    "# Update Age by adding 1 year to each\n",
    "df['Age'] = df['Age'] + 1\n",
    "# Add a new column 'Country'\n",
    "df['Country'] = 'USA'\n",
    "# Calculate and add a new column 'Tax' as 10% of Salary\n",
    "df['Tax'] = df['Salary'] * 0.10\n",
    "# Filter rows where Salary is greater than 60000\n",
    "high_salary_df = df[df['Salary'] > 60000]\n",
    "# Group by 'City' and calculate average 'Salary'\n",
    "avg_salary_by_city = df.groupby('City')['Salary'].mean()\n",
    "\n",
    "# Print the updated DataFrame\n",
    "print(\"Updated DataFrame:\\n\", df)\n",
    "# Print the filtered DataFrame\n",
    "print(\"\\nHigh Salary DataFrame:\\n\", high_salary_df)\n",
    "# Print the average salary by city\n",
    "print(\"\\nAverage Salary by City:\\n\", avg_salary_by_city)\n"
   ]
  }
 ],
 "metadata": {
  "kernelspec": {
   "display_name": "Python 3",
   "language": "python",
   "name": "python3"
  },
  "language_info": {
   "codemirror_mode": {
    "name": "ipython",
    "version": 3
   },
   "file_extension": ".py",
   "mimetype": "text/x-python",
   "name": "python",
   "nbconvert_exporter": "python",
   "pygments_lexer": "ipython3",
   "version": "3.10.9"
  }
 },
 "nbformat": 4,
 "nbformat_minor": 2
}
