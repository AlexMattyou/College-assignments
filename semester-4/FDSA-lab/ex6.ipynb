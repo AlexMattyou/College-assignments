{
 "cells": [
  {
   "cell_type": "code",
   "execution_count": 1,
   "metadata": {},
   "outputs": [
    {
     "name": "stdout",
     "output_type": "stream",
     "text": [
      "Z-score: 0.8432740427115678\n",
      "P-value: 0.3990751965482372\n"
     ]
    }
   ],
   "source": [
    "import pandas as pd\n",
    "import numpy as np\n",
    "from scipy import stats\n",
    "\n",
    "# Sample data\n",
    "data = {\n",
    "    'Salary': [70000, 80000, 50000, 90000, 60000, 70000, 50000, 80000, 75000, 65000]\n",
    "}\n",
    "\n",
    "df = pd.DataFrame(data)\n",
    "\n",
    "# Population parameters\n",
    "population_mean = 65000\n",
    "population_std = 15000\n",
    "\n",
    "# Sample mean\n",
    "sample_mean = df['Salary'].mean()\n",
    "\n",
    "# Sample size\n",
    "n = len(df['Salary'])\n",
    "\n",
    "# Z-test\n",
    "z_score = (sample_mean - population_mean) / (population_std / np.sqrt(n))\n",
    "p_value = stats.norm.sf(abs(z_score)) * 2  # two-tailed test\n",
    "\n",
    "print(\"Z-score:\", z_score)\n",
    "print(\"P-value:\", p_value)\n"
   ]
  }
 ],
 "metadata": {
  "kernelspec": {
   "display_name": "Python 3",
   "language": "python",
   "name": "python3"
  },
  "language_info": {
   "codemirror_mode": {
    "name": "ipython",
    "version": 3
   },
   "file_extension": ".py",
   "mimetype": "text/x-python",
   "name": "python",
   "nbconvert_exporter": "python",
   "pygments_lexer": "ipython3",
   "version": "3.10.9"
  }
 },
 "nbformat": 4,
 "nbformat_minor": 2
}
