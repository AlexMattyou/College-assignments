{
 "cells": [
  {
   "cell_type": "code",
   "execution_count": 1,
   "metadata": {},
   "outputs": [
    {
     "ename": "FileNotFoundError",
     "evalue": "[Errno 2] No such file or directory: 'training_data.csv'",
     "output_type": "error",
     "traceback": [
      "\u001b[1;31m---------------------------------------------------------------------------\u001b[0m",
      "\u001b[1;31mFileNotFoundError\u001b[0m                         Traceback (most recent call last)",
      "Cell \u001b[1;32mIn[1], line 67\u001b[0m\n\u001b[0;32m     64\u001b[0m         \u001b[38;5;28mprint\u001b[39m(h)\n\u001b[0;32m     66\u001b[0m \u001b[38;5;28;01mif\u001b[39;00m \u001b[38;5;18m__name__\u001b[39m \u001b[38;5;241m==\u001b[39m \u001b[38;5;124m\"\u001b[39m\u001b[38;5;124m__main__\u001b[39m\u001b[38;5;124m\"\u001b[39m:\n\u001b[1;32m---> 67\u001b[0m     \u001b[43mmain\u001b[49m\u001b[43m(\u001b[49m\u001b[43m)\u001b[49m\n",
      "Cell \u001b[1;32mIn[1], line 55\u001b[0m, in \u001b[0;36mmain\u001b[1;34m()\u001b[0m\n\u001b[0;32m     54\u001b[0m \u001b[38;5;28;01mdef\u001b[39;00m \u001b[38;5;21mmain\u001b[39m():\n\u001b[1;32m---> 55\u001b[0m     training_data \u001b[38;5;241m=\u001b[39m \u001b[43mread_data\u001b[49m\u001b[43m(\u001b[49m\u001b[38;5;124;43m'\u001b[39;49m\u001b[38;5;124;43mtraining_data.csv\u001b[39;49m\u001b[38;5;124;43m'\u001b[39;49m\u001b[43m)\u001b[49m\n\u001b[0;32m     56\u001b[0m     specific_hypotheses, general_hypotheses \u001b[38;5;241m=\u001b[39m candidate_elimination(training_data)\n\u001b[0;32m     58\u001b[0m     \u001b[38;5;28mprint\u001b[39m(\u001b[38;5;124m\"\u001b[39m\u001b[38;5;124mFinal Specific Hypotheses:\u001b[39m\u001b[38;5;124m\"\u001b[39m)\n",
      "Cell \u001b[1;32mIn[1], line 50\u001b[0m, in \u001b[0;36mread_data\u001b[1;34m(file_name)\u001b[0m\n\u001b[0;32m     49\u001b[0m \u001b[38;5;28;01mdef\u001b[39;00m \u001b[38;5;21mread_data\u001b[39m(file_name):\n\u001b[1;32m---> 50\u001b[0m     \u001b[38;5;28;01mwith\u001b[39;00m \u001b[38;5;28;43mopen\u001b[39;49m\u001b[43m(\u001b[49m\u001b[43mfile_name\u001b[49m\u001b[43m,\u001b[49m\u001b[43m \u001b[49m\u001b[38;5;124;43m'\u001b[39;49m\u001b[38;5;124;43mr\u001b[39;49m\u001b[38;5;124;43m'\u001b[39;49m\u001b[43m)\u001b[49m \u001b[38;5;28;01mas\u001b[39;00m file:\n\u001b[0;32m     51\u001b[0m         reader \u001b[38;5;241m=\u001b[39m csv\u001b[38;5;241m.\u001b[39mreader(file)\n\u001b[0;32m     52\u001b[0m         \u001b[38;5;28;01mreturn\u001b[39;00m [\u001b[38;5;28mtuple\u001b[39m(row) \u001b[38;5;28;01mfor\u001b[39;00m row \u001b[38;5;129;01min\u001b[39;00m reader]\n",
      "File \u001b[1;32m~\\AppData\\Roaming\\Python\\Python310\\site-packages\\IPython\\core\\interactiveshell.py:324\u001b[0m, in \u001b[0;36m_modified_open\u001b[1;34m(file, *args, **kwargs)\u001b[0m\n\u001b[0;32m    317\u001b[0m \u001b[38;5;28;01mif\u001b[39;00m file \u001b[38;5;129;01min\u001b[39;00m {\u001b[38;5;241m0\u001b[39m, \u001b[38;5;241m1\u001b[39m, \u001b[38;5;241m2\u001b[39m}:\n\u001b[0;32m    318\u001b[0m     \u001b[38;5;28;01mraise\u001b[39;00m \u001b[38;5;167;01mValueError\u001b[39;00m(\n\u001b[0;32m    319\u001b[0m         \u001b[38;5;124mf\u001b[39m\u001b[38;5;124m\"\u001b[39m\u001b[38;5;124mIPython won\u001b[39m\u001b[38;5;124m'\u001b[39m\u001b[38;5;124mt let you open fd=\u001b[39m\u001b[38;5;132;01m{\u001b[39;00mfile\u001b[38;5;132;01m}\u001b[39;00m\u001b[38;5;124m by default \u001b[39m\u001b[38;5;124m\"\u001b[39m\n\u001b[0;32m    320\u001b[0m         \u001b[38;5;124m\"\u001b[39m\u001b[38;5;124mas it is likely to crash IPython. If you know what you are doing, \u001b[39m\u001b[38;5;124m\"\u001b[39m\n\u001b[0;32m    321\u001b[0m         \u001b[38;5;124m\"\u001b[39m\u001b[38;5;124myou can use builtins\u001b[39m\u001b[38;5;124m'\u001b[39m\u001b[38;5;124m open.\u001b[39m\u001b[38;5;124m\"\u001b[39m\n\u001b[0;32m    322\u001b[0m     )\n\u001b[1;32m--> 324\u001b[0m \u001b[38;5;28;01mreturn\u001b[39;00m io_open(file, \u001b[38;5;241m*\u001b[39margs, \u001b[38;5;241m*\u001b[39m\u001b[38;5;241m*\u001b[39mkwargs)\n",
      "\u001b[1;31mFileNotFoundError\u001b[0m: [Errno 2] No such file or directory: 'training_data.csv'"
     ]
    }
   ],
   "source": [
    "import csv\n",
    "\n",
    "def initialize_hypotheses(n):\n",
    "    return [('?',) * n, ('0',) * n]\n",
    "\n",
    "def is_consistent(hypothesis, instance):\n",
    "    for hypo, inst in zip(hypothesis, instance):\n",
    "        if hypo != '?' and hypo != inst:\n",
    "            return False\n",
    "    return True\n",
    "\n",
    "def minimize_general_hypothesis(hypothesis, instance):\n",
    "    min_generalized = list(hypothesis)\n",
    "    for i in range(len(hypothesis)):\n",
    "        if hypothesis[i] == '?' and instance[i] != min_generalized[i]:\n",
    "            min_generalized[i] = instance[i]\n",
    "    return tuple(min_generalized)\n",
    "\n",
    "def generalize_specific_hypothesis(hypothesis, instance):\n",
    "    generalized = list(hypothesis)\n",
    "    for i in range(len(hypothesis)):\n",
    "        if hypothesis[i] == '0' and instance[i] != generalized[i]:\n",
    "            generalized[i] = '?'\n",
    "        elif hypothesis[i] != instance[i]:\n",
    "            generalized[i] = '?'\n",
    "    return tuple(generalized)\n",
    "\n",
    "def candidate_elimination(training_data):\n",
    "    n = len(training_data[0]) - 1\n",
    "    specific_h = initialize_hypotheses(n)\n",
    "    general_h = [('',) * n]\n",
    "    \n",
    "    for instance in training_data:\n",
    "        if instance[-1] == 'Y':\n",
    "            specific_h = [instance[:-1]]\n",
    "            for gen in general_h:\n",
    "                if not is_consistent(gen, instance[:-1]):\n",
    "                    general_h.remove(gen)\n",
    "                    general_h.append(minimize_general_hypothesis(gen, instance[:-1]))\n",
    "        else:\n",
    "            for gen in general_h[:]:\n",
    "                if is_consistent(gen, instance[:-1]):\n",
    "                    general_h.remove(gen)\n",
    "                    general_h.append(generalize_specific_hypothesis(gen, instance[:-1]))\n",
    "            general_h = [gen for gen in general_h if gen not in specific_h]\n",
    "            \n",
    "    return specific_h, general_h\n",
    "\n",
    "def read_data(file_name):\n",
    "    with open(file_name, 'r') as file:\n",
    "        reader = csv.reader(file)\n",
    "        return [tuple(row) for row in reader]\n",
    "\n",
    "def main():\n",
    "    training_data = read_data('training_data.csv')\n",
    "    specific_hypotheses, general_hypotheses = candidate_elimination(training_data)\n",
    "    \n",
    "    print(\"Final Specific Hypotheses:\")\n",
    "    for h in specific_hypotheses:\n",
    "        print(h)\n",
    "        \n",
    "    print(\"\\nFinal General Hypotheses:\")\n",
    "    for h in general_hypotheses:\n",
    "        print(h)\n",
    "\n",
    "if __name__ == \"__main__\":\n",
    "    main()\n"
   ]
  }
 ],
 "metadata": {
  "kernelspec": {
   "display_name": "Python 3",
   "language": "python",
   "name": "python3"
  },
  "language_info": {
   "codemirror_mode": {
    "name": "ipython",
    "version": 3
   },
   "file_extension": ".py",
   "mimetype": "text/x-python",
   "name": "python",
   "nbconvert_exporter": "python",
   "pygments_lexer": "ipython3",
   "version": "3.10.9"
  }
 },
 "nbformat": 4,
 "nbformat_minor": 2
}
