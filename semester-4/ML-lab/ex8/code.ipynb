{
 "cells": [
  {
   "cell_type": "code",
   "execution_count": 1,
   "metadata": {},
   "outputs": [],
   "source": [
    "import pandas as pd\n",
    "from sklearn.model_selection import train_test_split\n",
    "from sklearn.neighbors import KNeighborsClassifier\n",
    "from sklearn.metrics import accuracy_score"
   ]
  },
  {
   "cell_type": "code",
   "execution_count": 2,
   "metadata": {},
   "outputs": [],
   "source": [
    "data = pd.df = pd.read_csv(\"seeds.csv\")\n",
    "X = data.drop(['seedType','ID'], axis=1)\n",
    "y = data['seedType']\n",
    "X_train, X_test, y_train, y_test = train_test_split(X, y, test_size=0.3, random_state=42)"
   ]
  },
  {
   "cell_type": "code",
   "execution_count": 3,
   "metadata": {},
   "outputs": [
    {
     "name": "stdout",
     "output_type": "stream",
     "text": [
      "Accuracy: 0.873015873015873\n"
     ]
    }
   ],
   "source": [
    "knn = KNeighborsClassifier(n_neighbors=3)\n",
    "knn.fit(X_train, y_train)\n",
    "y_pred = knn.predict(X_test)\n",
    "accuracy = accuracy_score(y_test, y_pred)\n",
    "print(\"Accuracy:\", accuracy)"
   ]
  },
  {
   "cell_type": "code",
   "execution_count": 4,
   "metadata": {},
   "outputs": [
    {
     "name": "stdout",
     "output_type": "stream",
     "text": [
      "Correct predictions: 55\n",
      "Index([ 30, 172,  84, 155,  45, 182,   9, 196, 136, 187, 207, 126,  15,  73,\n",
      "       165,  18, 168,  93,  75,  55, 147, 109, 108, 142,  25, 125, 173, 192,\n",
      "       101,  67, 104, 180,  95,  82, 159, 197, 162, 150,  96, 200,  68, 156,\n",
      "        86, 100,  38,  24, 183, 117,  29, 139,  66,  65,   5,  56,  97],\n",
      "      dtype='int64')\n",
      "Wrong predictions: 8\n",
      "Index([199, 60, 16, 69, 132, 19, 135, 146], dtype='int64')\n"
     ]
    }
   ],
   "source": [
    "correct_predictions = X_test[y_test == y_pred]\n",
    "wrong_predictions = X_test[y_test != y_pred]\n",
    "\n",
    "print(\"Correct predictions:\", end=' ')\n",
    "print(len(correct_predictions))\n",
    "print(correct_predictions.index)\n",
    "\n",
    "print(\"Wrong predictions:\", end=' ')\n",
    "print(len(wrong_predictions))\n",
    "print(wrong_predictions.index)"
   ]
  }
 ],
 "metadata": {
  "kernelspec": {
   "display_name": "Python 3",
   "language": "python",
   "name": "python3"
  },
  "language_info": {
   "codemirror_mode": {
    "name": "ipython",
    "version": 3
   },
   "file_extension": ".py",
   "mimetype": "text/x-python",
   "name": "python",
   "nbconvert_exporter": "python",
   "pygments_lexer": "ipython3",
   "version": "3.10.9"
  }
 },
 "nbformat": 4,
 "nbformat_minor": 2
}
