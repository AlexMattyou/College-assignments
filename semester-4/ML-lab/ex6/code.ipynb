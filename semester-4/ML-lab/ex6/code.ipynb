{
 "cells": [
  {
   "cell_type": "code",
   "execution_count": 1,
   "metadata": {},
   "outputs": [
    {
     "name": "stderr",
     "output_type": "stream",
     "text": [
      "d:\\Data\\Apps\\python\\python-3.10.9\\lib\\site-packages\\tqdm\\auto.py:21: TqdmWarning: IProgress not found. Please update jupyter and ipywidgets. See https://ipywidgets.readthedocs.io/en/stable/user_install.html\n",
      "  from .autonotebook import tqdm as notebook_tqdm\n"
     ]
    }
   ],
   "source": [
    "import pandas as pd\n",
    "from pgmpy.models import BayesianNetwork\n",
    "from pgmpy.estimators import HillClimbSearch, BayesianEstimator, BicScore"
   ]
  },
  {
   "cell_type": "code",
   "execution_count": 2,
   "metadata": {},
   "outputs": [],
   "source": [
    "data = pd.read_csv(\"WHO_data.csv\")\n",
    "model = BayesianNetwork([\n",
    "    (\"Fever\", \"Diagnosis\"),(\"Tiredness\", \"Diagnosis\"),\n",
    "    (\"Dry-Cough\", \"Diagnosis\"),(\"Difficulty-in-Breathing\", \"Diagnosis\"),\n",
    "    (\"Sore-Throat\", \"Diagnosis\"),(\"Runny-Nose\", \"Diagnosis\")\n",
    "])"
   ]
  },
  {
   "cell_type": "code",
   "execution_count": 3,
   "metadata": {},
   "outputs": [
    {
     "name": "stderr",
     "output_type": "stream",
     "text": [
      "  0%|          | 9/1000000 [00:02<64:42:19,  4.29it/s] \n"
     ]
    }
   ],
   "source": [
    "bic = BicScore(data)\n",
    "hc = HillClimbSearch(data)\n",
    "best_model = hc.estimate(scoring_method=bic)\n",
    "\n",
    "model = BayesianNetwork(best_model.edges())\n",
    "model.fit(data, estimator=BayesianEstimator)"
   ]
  },
  {
   "cell_type": "code",
   "execution_count": 4,
   "metadata": {},
   "outputs": [
    {
     "name": "stdout",
     "output_type": "stream",
     "text": [
      "Probability of having COVID-19:    Difficulty-in-Breathing_0  Difficulty-in-Breathing_1\n",
      "0                   0.999992                   0.000008\n"
     ]
    }
   ],
   "source": [
    "def predict_covid(symptoms, model):\n",
    "    evidence = {node: val for node, val in zip(model.nodes(), symptoms) if val is not None}\n",
    "    evidence_df = pd.DataFrame([evidence])\n",
    "    return model.predict_probability(evidence_df)\n",
    "\n",
    "input_symptoms = [1, 0, 0, 1,None, 1]  # Example input array of symptoms\n",
    "prob_covid = predict_covid(input_symptoms, model)\n",
    "prob_covid = pd.DataFrame(prob_covid)\n",
    "\n",
    "print(\"Probability of having COVID-19:\", prob_covid)  # Access probability using the label \"1\" for COVID-19"
   ]
  }
 ],
 "metadata": {
  "kernelspec": {
   "display_name": "Python 3",
   "language": "python",
   "name": "python3"
  },
  "language_info": {
   "codemirror_mode": {
    "name": "ipython",
    "version": 3
   },
   "file_extension": ".py",
   "mimetype": "text/x-python",
   "name": "python",
   "nbconvert_exporter": "python",
   "pygments_lexer": "ipython3",
   "version": "3.10.9"
  }
 },
 "nbformat": 4,
 "nbformat_minor": 2
}
