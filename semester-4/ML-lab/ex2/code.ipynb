{
 "cells": [
  {
   "cell_type": "code",
   "execution_count": 17,
   "metadata": {},
   "outputs": [],
   "source": [
    "import pandas as pd\n",
    "from sklearn.tree import DecisionTreeClassifier\n",
    "from sklearn.model_selection import train_test_split\n",
    "from sklearn.metrics import accuracy_score"
   ]
  },
  {
   "cell_type": "code",
   "execution_count": 18,
   "metadata": {},
   "outputs": [
    {
     "name": "stdout",
     "output_type": "stream",
     "text": [
      "     sepal_length  sepal_width  petal_length  petal_width     species\n",
      "46            5.1          3.8           1.6          0.2      setosa\n",
      "148           6.2          3.4           5.4          2.3   virginica\n",
      "28            5.2          3.4           1.4          0.2      setosa\n",
      "71            6.1          2.8           4.0          1.3  versicolor\n",
      "149           5.9          3.0           5.1          1.8   virginica\n"
     ]
    }
   ],
   "source": [
    "data = pd.read_csv(\"iris.csv\")\n",
    "print(data.sample(5))"
   ]
  },
  {
   "cell_type": "code",
   "execution_count": 19,
   "metadata": {},
   "outputs": [
    {
     "name": "stdout",
     "output_type": "stream",
     "text": [
      "    sepal_length  sepal_width  petal_length  petal_width\n",
      "32           5.2          4.1           1.5          0.1\n",
      "13           4.3          3.0           1.1          0.1\n",
      "\n",
      "90    versicolor\n",
      "53    versicolor\n",
      "Name: species, dtype: object\n"
     ]
    }
   ],
   "source": [
    "X = data.drop('species', axis=1)\n",
    "y = data['species']\n",
    "print(X.sample(2),end='\\n\\n')\n",
    "print(y.sample(2))"
   ]
  },
  {
   "cell_type": "code",
   "execution_count": 20,
   "metadata": {},
   "outputs": [
    {
     "name": "stdout",
     "output_type": "stream",
     "text": [
      "Predicted:  ['versicolor' 'setosa' 'virginica' 'versicolor' 'versicolor' 'setosa'\n",
      " 'versicolor' 'virginica' 'versicolor' 'versicolor' 'virginica' 'setosa'\n",
      " 'setosa' 'setosa' 'setosa' 'versicolor' 'virginica' 'versicolor'\n",
      " 'versicolor' 'virginica' 'setosa' 'virginica' 'setosa' 'virginica'\n",
      " 'virginica' 'virginica' 'virginica' 'virginica' 'setosa' 'setosa']\n"
     ]
    }
   ],
   "source": [
    "X_train, X_test, y_train, y_test = train_test_split(X, y, test_size=0.2, random_state=42)\n",
    "model = DecisionTreeClassifier()\n",
    "model.fit(X_train, y_train)\n",
    "y_pred = model.predict(X_test)\n",
    "print(\"Predicted: \", y_pred)"
   ]
  },
  {
   "cell_type": "code",
   "execution_count": 21,
   "metadata": {},
   "outputs": [
    {
     "name": "stdout",
     "output_type": "stream",
     "text": [
      "Accuracy: 1.0\n"
     ]
    }
   ],
   "source": [
    "accuracy = accuracy_score(y_test, y_pred)\n",
    "print(\"Accuracy:\", accuracy)"
   ]
  }
 ],
 "metadata": {
  "kernelspec": {
   "display_name": "Python 3",
   "language": "python",
   "name": "python3"
  },
  "language_info": {
   "codemirror_mode": {
    "name": "ipython",
    "version": 3
   },
   "file_extension": ".py",
   "mimetype": "text/x-python",
   "name": "python",
   "nbconvert_exporter": "python",
   "pygments_lexer": "ipython3",
   "version": "3.10.9"
  }
 },
 "nbformat": 4,
 "nbformat_minor": 2
}
