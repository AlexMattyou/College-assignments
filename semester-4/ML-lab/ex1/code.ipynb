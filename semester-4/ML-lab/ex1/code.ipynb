{
 "cells": [
  {
   "cell_type": "code",
   "execution_count": 1,
   "metadata": {},
   "outputs": [],
   "source": [
    "import pandas as pd\n",
    "data = pd.read_csv(\"data.csv\")\n",
    "specific_h = data.iloc[0, :-1].tolist()\n",
    "general_h = [['?' for _ in range(len(specific_h))] for _ in range(len(specific_h))]"
   ]
  },
  {
   "cell_type": "code",
   "execution_count": 2,
   "metadata": {},
   "outputs": [],
   "source": [
    "for index, row in data.iterrows():\n",
    "    if row.iloc[-1] == 'Yes':\n",
    "        for i in range(len(specific_h)):\n",
    "            if row.iloc[i] != specific_h[i]:\n",
    "                specific_h[i] = '?'\n",
    "                general_h[i][i] = '?'\n",
    "    else:\n",
    "        for i in range(len(specific_h)):\n",
    "            if row.iloc[i] != specific_h[i]:\n",
    "                general_h[i][i] = specific_h[i]\n",
    "            else:\n",
    "                general_h[i][i] = '?'\n",
    "\n",
    "general_h = [tuple(h) for h in general_h if h.count('?') > 0]"
   ]
  },
  {
   "cell_type": "code",
   "execution_count": 3,
   "metadata": {},
   "outputs": [
    {
     "name": "stdout",
     "output_type": "stream",
     "text": [
      "Final Specific Hypothesis: ['sunny', 'hot', 'high', False]\n",
      "Final General Hypotheses: [('sunny', '?', '?', '?'), ('?', 'hot', '?', '?'), ('?', '?', '?', '?'), ('?', '?', '?', False)]\n"
     ]
    }
   ],
   "source": [
    "print(\"Final Specific Hypothesis:\", specific_h)\n",
    "print(\"Final General Hypotheses:\", general_h)\n"
   ]
  }
 ],
 "metadata": {
  "kernelspec": {
   "display_name": "Python 3",
   "language": "python",
   "name": "python3"
  },
  "language_info": {
   "codemirror_mode": {
    "name": "ipython",
    "version": 3
   },
   "file_extension": ".py",
   "mimetype": "text/x-python",
   "name": "python",
   "nbconvert_exporter": "python",
   "pygments_lexer": "ipython3",
   "version": "3.10.9"
  }
 },
 "nbformat": 4,
 "nbformat_minor": 2
}
