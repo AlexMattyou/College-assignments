{
 "cells": [
  {
   "cell_type": "code",
   "execution_count": 4,
   "metadata": {},
   "outputs": [],
   "source": [
    "import pandas as pd\n",
    "import numpy as np\n",
    "from sklearn.mixture import GaussianMixture\n",
    "from sklearn.cluster import KMeans\n",
    "from sklearn import preprocessing\n",
    "from sklearn.metrics import silhouette_score"
   ]
  },
  {
   "cell_type": "code",
   "execution_count": 5,
   "metadata": {},
   "outputs": [
    {
     "name": "stdout",
     "output_type": "stream",
     "text": [
      "      fixed_acidity  volatile_acidity  citric_acid  residual_sugar  chlorides  \\\n",
      "1895            8.3              0.39          0.7            10.6      0.045   \n",
      "1277            7.0              0.69          0.0             1.9      0.114   \n",
      "\n",
      "      free_sulfur_dioxide  total_sulfur_dioxide  density    pH  sulphates  \\\n",
      "1895                 33.0                 169.0  0.99760  3.09       0.57   \n",
      "1277                  3.0                  10.0  0.99636  3.35       0.60   \n",
      "\n",
      "      alcohol  quality  style  \n",
      "1895      9.4        5  white  \n",
      "1277      9.7        6    red  \n"
     ]
    }
   ],
   "source": [
    "data = pd.read_csv(\"wine_dataset.csv\")\n",
    "print(data.sample(2))"
   ]
  },
  {
   "cell_type": "code",
   "execution_count": 6,
   "metadata": {},
   "outputs": [
    {
     "name": "stderr",
     "output_type": "stream",
     "text": [
      "C:\\Users\\alexm\\AppData\\Local\\Temp\\ipykernel_22388\\1653291869.py:2: FutureWarning: Downcasting behavior in `replace` is deprecated and will be removed in a future version. To retain the old behavior, explicitly call `result.infer_objects(copy=False)`. To opt-in to the future behavior, set `pd.set_option('future.no_silent_downcasting', True)`\n",
      "  data['style'] = data['style'].replace('white', 1)\n"
     ]
    }
   ],
   "source": [
    "data['style'] = data['style'].replace('red', 0)\n",
    "data['style'] = data['style'].replace('white', 1)"
   ]
  },
  {
   "cell_type": "code",
   "execution_count": 7,
   "metadata": {},
   "outputs": [],
   "source": [
    "scaler = preprocessing.StandardScaler()\n",
    "scaled_data = scaler.fit_transform(data)\n",
    "num_clusters = 3"
   ]
  },
  {
   "cell_type": "code",
   "execution_count": 8,
   "metadata": {},
   "outputs": [
    {
     "name": "stdout",
     "output_type": "stream",
     "text": [
      "Silhouette Score for EM Clustering: 0.20330645664579197\n"
     ]
    }
   ],
   "source": [
    "gmm = GaussianMixture(n_components=num_clusters)\n",
    "gmm.fit(scaled_data)\n",
    "em_labels = gmm.predict(scaled_data)\n",
    "silhouette_em = silhouette_score(scaled_data, em_labels)\n",
    "print(\"Silhouette Score for EM Clustering:\", silhouette_em)\n"
   ]
  },
  {
   "cell_type": "code",
   "execution_count": 9,
   "metadata": {},
   "outputs": [
    {
     "name": "stdout",
     "output_type": "stream",
     "text": [
      "Silhouette Score for k-Means Clustering: 0.23519496337935383\n"
     ]
    }
   ],
   "source": [
    "kmeans = KMeans(n_clusters=num_clusters)\n",
    "kmeans.fit(scaled_data)\n",
    "kmeans_labels = kmeans.labels_\n",
    "silhouette_kmeans = silhouette_score(scaled_data, kmeans_labels)\n",
    "print(\"Silhouette Score for k-Means Clustering:\", silhouette_kmeans)"
   ]
  },
  {
   "cell_type": "code",
   "execution_count": 10,
   "metadata": {},
   "outputs": [
    {
     "name": "stdout",
     "output_type": "stream",
     "text": [
      "best algorithm: k-Means Clustering\n"
     ]
    }
   ],
   "source": [
    "if silhouette_em > silhouette_kmeans:\n",
    "    best_alg = \"EM Clustering\"\n",
    "else:\n",
    "    best_alg = \"k-Means Clustering\"\n",
    "print(\"best algorithm:\", best_alg)"
   ]
  }
 ],
 "metadata": {
  "kernelspec": {
   "display_name": "Python 3",
   "language": "python",
   "name": "python3"
  },
  "language_info": {
   "codemirror_mode": {
    "name": "ipython",
    "version": 3
   },
   "file_extension": ".py",
   "mimetype": "text/x-python",
   "name": "python",
   "nbconvert_exporter": "python",
   "pygments_lexer": "ipython3",
   "version": "3.10.9"
  }
 },
 "nbformat": 4,
 "nbformat_minor": 2
}
