{
 "cells": [
  {
   "cell_type": "code",
   "execution_count": 1,
   "metadata": {},
   "outputs": [],
   "source": [
    "import pandas as pd\n",
    "import numpy as np\n",
    "from sklearn.mixture import GaussianMixture\n",
    "from sklearn.cluster import KMeans\n",
    "from sklearn import preprocessing\n",
    "from sklearn.metrics import silhouette_score"
   ]
  },
  {
   "cell_type": "code",
   "execution_count": 2,
   "metadata": {},
   "outputs": [
    {
     "name": "stdout",
     "output_type": "stream",
     "text": [
      "      fixed_acidity  volatile_acidity  citric_acid  residual_sugar  chlorides  \\\n",
      "2063            7.2              0.39         0.62            11.0      0.047   \n",
      "2653            7.0              0.31         0.52             1.7      0.029   \n",
      "\n",
      "      free_sulfur_dioxide  total_sulfur_dioxide  density    pH  sulphates  \\\n",
      "2063                 66.0                 178.0   0.9976  3.16       0.50   \n",
      "2653                  5.0                  61.0   0.9918  3.07       0.43   \n",
      "\n",
      "      alcohol  quality  style  \n",
      "2063      8.7        5  white  \n",
      "2653     10.4        5  white  \n"
     ]
    }
   ],
   "source": [
    "data = pd.read_csv(\"wine_dataset.csv\")\n",
    "print(data.sample(2))"
   ]
  },
  {
   "cell_type": "code",
   "execution_count": 3,
   "metadata": {},
   "outputs": [
    {
     "name": "stderr",
     "output_type": "stream",
     "text": [
      "C:\\Users\\alexm\\AppData\\Local\\Temp\\ipykernel_18320\\1653291869.py:2: FutureWarning: Downcasting behavior in `replace` is deprecated and will be removed in a future version. To retain the old behavior, explicitly call `result.infer_objects(copy=False)`. To opt-in to the future behavior, set `pd.set_option('future.no_silent_downcasting', True)`\n",
      "  data['style'] = data['style'].replace('white', 1)\n"
     ]
    }
   ],
   "source": [
    "data['style'] = data['style'].replace('red', 0)\n",
    "data['style'] = data['style'].replace('white', 1)"
   ]
  },
  {
   "cell_type": "code",
   "execution_count": 4,
   "metadata": {},
   "outputs": [],
   "source": [
    "scaler = preprocessing.StandardScaler()\n",
    "scaled_data = scaler.fit_transform(data)\n",
    "\n",
    "num_clusters = 3"
   ]
  },
  {
   "cell_type": "code",
   "execution_count": 5,
   "metadata": {},
   "outputs": [
    {
     "name": "stdout",
     "output_type": "stream",
     "text": [
      "Silhouette Score for EM Clustering: 0.20282015349997728\n"
     ]
    }
   ],
   "source": [
    "gmm = GaussianMixture(n_components=num_clusters)\n",
    "gmm.fit(scaled_data)\n",
    "em_labels = gmm.predict(scaled_data)\n",
    "silhouette_em = silhouette_score(scaled_data, em_labels)\n",
    "\n",
    "print(\"Silhouette Score for EM Clustering:\", silhouette_em)\n"
   ]
  },
  {
   "cell_type": "code",
   "execution_count": 6,
   "metadata": {},
   "outputs": [
    {
     "name": "stdout",
     "output_type": "stream",
     "text": [
      "Silhouette Score for k-Means Clustering: 0.23514540659735544\n"
     ]
    }
   ],
   "source": [
    "kmeans = KMeans(n_clusters=num_clusters)\n",
    "kmeans.fit(scaled_data)\n",
    "kmeans_labels = kmeans.labels_\n",
    "silhouette_kmeans = silhouette_score(scaled_data, kmeans_labels)\n",
    "print(\"Silhouette Score for k-Means Clustering:\", silhouette_kmeans)"
   ]
  },
  {
   "cell_type": "code",
   "execution_count": 7,
   "metadata": {},
   "outputs": [
    {
     "name": "stdout",
     "output_type": "stream",
     "text": [
      "best algorithm: k-Means Clustering\n"
     ]
    }
   ],
   "source": [
    "if silhouette_em > silhouette_kmeans:\n",
    "    best_alg = \"EM Clustering\"\n",
    "else:\n",
    "    best_alg = \"k-Means Clustering\"\n",
    "print(\"best algorithm:\", best_alg)"
   ]
  }
 ],
 "metadata": {
  "kernelspec": {
   "display_name": "Python 3",
   "language": "python",
   "name": "python3"
  },
  "language_info": {
   "codemirror_mode": {
    "name": "ipython",
    "version": 3
   },
   "file_extension": ".py",
   "mimetype": "text/x-python",
   "name": "python",
   "nbconvert_exporter": "python",
   "pygments_lexer": "ipython3",
   "version": "3.10.9"
  }
 },
 "nbformat": 4,
 "nbformat_minor": 2
}
