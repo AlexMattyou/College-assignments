{
 "cells": [
  {
   "attachments": {},
   "cell_type": "markdown",
   "metadata": {},
   "source": [
    "## Linked list:\n",
    "this was some useless topic but tricky to create. I tried my self to create the basic structure of linked list in python. I'll name it a train list"
   ]
  },
  {
   "attachments": {},
   "cell_type": "markdown",
   "metadata": {},
   "source": [
    "### creating a node:\n",
    "Node is an ADT that store the value and id of next value"
   ]
  },
  {
   "cell_type": "code",
   "execution_count": 1,
   "metadata": {},
   "outputs": [],
   "source": [
    "class Node:\n",
    "    def __init__(self, val, next):\n",
    "        self.val,self.next = (val,next)"
   ]
  },
  {
   "attachments": {},
   "cell_type": "markdown",
   "metadata": {},
   "source": [
    "### creating Linked List:\n",
    "build function build a link connection for given array and returns the length\n",
    "show function will display all values by local variable\n",
    "getitem magic function works like a slizing operator, but I programed to only work one input"
   ]
  },
  {
   "cell_type": "code",
   "execution_count": 2,
   "metadata": {},
   "outputs": [],
   "source": [
    "class LL:\n",
    "    def __init__(self, arr):\n",
    "        self.head,self.next = (None,None)\n",
    "        self.len = self.build(arr)\n",
    "    def build(self, arr, count = 0):\n",
    "        for i in range(-1,-len(arr)-1,-1):\n",
    "            self.next = Node(arr[i],self.next)\n",
    "            count += 1\n",
    "        self.head = self.next\n",
    "        return count\n",
    "    def show(self):\n",
    "        arr, val = ([self.head.val],self.head.next)\n",
    "        while val != None:\n",
    "            arr += [val.val]\n",
    "            val = val.next\n",
    "        return arr\n",
    "    def __getitem__(self, i):\n",
    "        v,count = (self.head,0)\n",
    "        while v != None:\n",
    "            if count==i:\n",
    "                return v.val\n",
    "            count += 1\n",
    "            v = v.next\n",
    "        raise Exception(\"list index out of range\")"
   ]
  },
  {
   "attachments": {},
   "cell_type": "markdown",
   "metadata": {},
   "source": [
    "### Main:\n",
    "testing with 2 objects, IT's working fine"
   ]
  },
  {
   "cell_type": "code",
   "execution_count": 3,
   "metadata": {},
   "outputs": [
    {
     "name": "stdout",
     "output_type": "stream",
     "text": [
      "M\n",
      "H\n",
      "7\n",
      "['A', 'Z', 'M', 'D', 'G', 'H', 'N']\n"
     ]
    }
   ],
   "source": [
    "a = LL(['A','Z','M','D','G','H','N'])\n",
    "print(a[2])\n",
    "print(a[5])\n",
    "print(a.len)\n",
    "print(a.show())"
   ]
  },
  {
   "cell_type": "code",
   "execution_count": 4,
   "metadata": {},
   "outputs": [
    {
     "name": "stdout",
     "output_type": "stream",
     "text": [
      "12\n",
      "5\n",
      "[12, 54, 79, 34, 67]\n"
     ]
    }
   ],
   "source": [
    "b = LL([12,54,79,34,67])\n",
    "print(b[0])\n",
    "print(b.len)\n",
    "print(b.show())"
   ]
  },
  {
   "attachments": {},
   "cell_type": "markdown",
   "metadata": {},
   "source": [
    "This is not enough, need to add append, insert, pop and even more...\n",
    "But L'll just stop here 😅 "
   ]
  }
 ],
 "metadata": {
  "kernelspec": {
   "display_name": "Python 3",
   "language": "python",
   "name": "python3"
  },
  "language_info": {
   "codemirror_mode": {
    "name": "ipython",
    "version": 3
   },
   "file_extension": ".py",
   "mimetype": "text/x-python",
   "name": "python",
   "nbconvert_exporter": "python",
   "pygments_lexer": "ipython3",
   "version": "3.11.4"
  },
  "orig_nbformat": 4
 },
 "nbformat": 4,
 "nbformat_minor": 2
}
