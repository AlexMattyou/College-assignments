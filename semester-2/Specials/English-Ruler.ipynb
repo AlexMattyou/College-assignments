{
 "cells": [
  {
   "attachments": {},
   "cell_type": "markdown",
   "metadata": {},
   "source": [
    "Everyone used chatGPT which gave a long chaotic function for English ruler\n",
    "but I made it simpler in my style with measurements in each!"
   ]
  },
  {
   "cell_type": "code",
   "execution_count": 1,
   "metadata": {},
   "outputs": [],
   "source": [
    "def ruler(ran,dia,x=1):\n",
    "    if dia == 1: return\n",
    "    if x:print('-'*dia,ran[0])\n",
    "    ruler((ran[0],(ran[1]+ran[0])/2),dia-1,0)\n",
    "    print('-'*(dia-1),(ran[1]+ran[0])/2)\n",
    "    ruler(((ran[1]+ran[0])/2,ran[1]),dia-1,0)\n",
    "    if x:print('-'*dia,ran[0])"
   ]
  },
  {
   "cell_type": "code",
   "execution_count": 2,
   "metadata": {},
   "outputs": [
    {
     "name": "stdout",
     "output_type": "stream",
     "text": [
      "---- 0\n",
      "- 0.25\n",
      "-- 0.5\n",
      "- 0.75\n",
      "--- 1.0\n",
      "- 1.25\n",
      "-- 1.5\n",
      "- 1.75\n",
      "---- 0\n"
     ]
    }
   ],
   "source": [
    "ruler((0,2),4)"
   ]
  },
  {
   "cell_type": "code",
   "execution_count": 3,
   "metadata": {},
   "outputs": [
    {
     "name": "stdout",
     "output_type": "stream",
     "text": [
      "----- 0\n",
      "- 0.25\n",
      "-- 0.5\n",
      "- 0.75\n",
      "--- 1.0\n",
      "- 1.25\n",
      "-- 1.5\n",
      "- 1.75\n",
      "---- 2.0\n",
      "- 2.25\n",
      "-- 2.5\n",
      "- 2.75\n",
      "--- 3.0\n",
      "- 3.25\n",
      "-- 3.5\n",
      "- 3.75\n",
      "----- 0\n"
     ]
    }
   ],
   "source": [
    "ruler((0,4),5)"
   ]
  }
 ],
 "metadata": {
  "kernelspec": {
   "display_name": "base",
   "language": "python",
   "name": "python3"
  },
  "language_info": {
   "codemirror_mode": {
    "name": "ipython",
    "version": 3
   },
   "file_extension": ".py",
   "mimetype": "text/x-python",
   "name": "python",
   "nbconvert_exporter": "python",
   "pygments_lexer": "ipython3",
   "version": "3.10.9"
  },
  "orig_nbformat": 4
 },
 "nbformat": 4,
 "nbformat_minor": 2
}
