{
 "cells": [
  {
   "cell_type": "markdown",
   "metadata": {},
   "source": [
    "### 1"
   ]
  },
  {
   "cell_type": "markdown",
   "metadata": {},
   "source": [
    "##### a - Inheritance in python ADT classes"
   ]
  },
  {
   "cell_type": "code",
   "execution_count": 90,
   "metadata": {},
   "outputs": [
    {
     "name": "stdout",
     "output_type": "stream",
     "text": [
      "Guru\n",
      "Alex\n",
      "Manickam\n"
     ]
    }
   ],
   "source": [
    "class User:\n",
    "    def __init__(self, name, age):\n",
    "        self.name = name\n",
    "        self.age = age\n",
    "\n",
    "    def display(self,item):\n",
    "        if item == 'name': print(self.name)\n",
    "        elif item == 'age': print(self.age)\n",
    "\n",
    "class Student(User):\n",
    "    def __init__(self, name, age, department, score):\n",
    "        self.department = department\n",
    "        self.score = score\n",
    "        super().__init__(name, age)\n",
    "\n",
    "class Staff(User):\n",
    "    def __init__(self, name, age, subject, status):\n",
    "        self.subject = subject\n",
    "        self.status = status\n",
    "        super().__init__(name, age)\n",
    "\n",
    "s1 = Student('Guru','18','AI&DS','7.68')\n",
    "s2 = Student('Alex', '18','AI&DS','9.22')\n",
    "p1 = Staff('Manickam', '30','AD','AP')\n",
    "s1.display('name')\n",
    "s2.display('name')\n",
    "p1.display('name')\n"
   ]
  },
  {
   "cell_type": "markdown",
   "metadata": {},
   "source": [
    "##### b - Factorial using recursion"
   ]
  },
  {
   "cell_type": "code",
   "execution_count": 91,
   "metadata": {},
   "outputs": [
    {
     "name": "stdout",
     "output_type": "stream",
     "text": [
      "6\n",
      "120\n",
      "5040\n"
     ]
    }
   ],
   "source": [
    "def factorial(n):\n",
    "    if n < 2:\n",
    "        return 1\n",
    "    return n * factorial(n-1)\n",
    "\n",
    "print(factorial(3))\n",
    "print(factorial(5))\n",
    "print(factorial(7))"
   ]
  },
  {
   "cell_type": "markdown",
   "metadata": {},
   "source": [
    "### 2"
   ]
  },
  {
   "cell_type": "markdown",
   "metadata": {},
   "source": [
    "##### a - recursive binary search"
   ]
  },
  {
   "cell_type": "code",
   "execution_count": 92,
   "metadata": {},
   "outputs": [
    {
     "name": "stdout",
     "output_type": "stream",
     "text": [
      "[24, 35, 39, 82, 84, 94, 94]\n",
      "1\n"
     ]
    }
   ],
   "source": [
    "def binarySearch(arr, target, start = 0, end = None):\n",
    "    if end == None: end = len(arr)\n",
    "    mid = (start + end) // 2\n",
    "    if start == end:\n",
    "        return -1\n",
    "    if arr[mid] == target:\n",
    "        return mid\n",
    "    elif arr[mid] < target:\n",
    "        return binarySearch(arr, target, mid + 1, end)\n",
    "    elif arr[mid] > target:\n",
    "        return binarySearch(arr, target, start, mid)\n",
    "\n",
    "arr = [94,94,82,39,84,24,35]\n",
    "arr.sort()\n",
    "print(arr)\n",
    "print(binarySearch(arr, 35))"
   ]
  },
  {
   "cell_type": "markdown",
   "metadata": {},
   "source": [
    "##### b - Bubble sort"
   ]
  },
  {
   "cell_type": "code",
   "execution_count": 93,
   "metadata": {},
   "outputs": [
    {
     "name": "stdout",
     "output_type": "stream",
     "text": [
      "[2, 3, 3, 5, 7, 7, 9]\n"
     ]
    }
   ],
   "source": [
    "def bubbleSort(arr):\n",
    "    for i in range(len(arr)-1):\n",
    "        for j in range(len(arr)-i-1):\n",
    "            if arr[j] > arr[j+1]:\n",
    "                arr[j],arr[j+1] = arr[j+1],arr[j]\n",
    "    return arr\n",
    "\n",
    "arr = [3,5,7,2,9,3,7]\n",
    "print(bubbleSort(arr))\n"
   ]
  },
  {
   "cell_type": "markdown",
   "metadata": {},
   "source": [
    "### 3"
   ]
  },
  {
   "cell_type": "markdown",
   "metadata": {},
   "source": [
    "##### a - Array in python"
   ]
  },
  {
   "cell_type": "code",
   "execution_count": 94,
   "metadata": {},
   "outputs": [],
   "source": [
    "class Array:\n",
    "    def __init__(self, size):\n",
    "        self.size = size\n",
    "        self.array = []\n",
    "        \n",
    "    def isEmpty(self):\n",
    "        return len(self.array) == 0\n",
    "    def isFull(self):\n",
    "        return len(self.array) == self.size\n",
    "    def append(self,value):\n",
    "        if self.isFull(): raise Exception('Array is already full')\n",
    "        self.array.append(value)\n",
    "    def insert(self,pos,val):\n",
    "        if pos > self.size-1 and self.isFull(): raise Exception('Position index out of range')\n",
    "        self.array.insert(pos,val)\n",
    "    def pop(self,val = -1):\n",
    "        if self.isEmpty(): raise Exception('Array is empty')\n",
    "        return self.array.pop(val)\n",
    "    def display(self):\n",
    "        print(self.array)\n",
    "        \n",
    "a = Array(3)"
   ]
  },
  {
   "cell_type": "code",
   "execution_count": 95,
   "metadata": {},
   "outputs": [
    {
     "name": "stdout",
     "output_type": "stream",
     "text": [
      "[7]\n"
     ]
    }
   ],
   "source": [
    "a.append(7)\n",
    "a.display()"
   ]
  },
  {
   "cell_type": "code",
   "execution_count": 96,
   "metadata": {},
   "outputs": [
    {
     "name": "stdout",
     "output_type": "stream",
     "text": [
      "[7, 8]\n"
     ]
    }
   ],
   "source": [
    "a.append(8)\n",
    "a.display()"
   ]
  },
  {
   "cell_type": "code",
   "execution_count": 97,
   "metadata": {},
   "outputs": [
    {
     "name": "stdout",
     "output_type": "stream",
     "text": [
      "[7]\n"
     ]
    }
   ],
   "source": [
    "a.pop()\n",
    "a.display()"
   ]
  },
  {
   "cell_type": "markdown",
   "metadata": {},
   "source": [
    "##### b - Selection sort"
   ]
  },
  {
   "cell_type": "code",
   "execution_count": 98,
   "metadata": {},
   "outputs": [
    {
     "name": "stdout",
     "output_type": "stream",
     "text": [
      "[2, 3, 5, 7, 8]\n"
     ]
    }
   ],
   "source": [
    "def selectionSort(arr):\n",
    "    for i in range(len(arr)-1):\n",
    "        min = i\n",
    "        for j in range(i+1,len(arr)):\n",
    "            if arr[j]< arr[min]:min = j\n",
    "        arr[i],arr[min] = arr[min],arr[i]\n",
    "    return arr\n",
    "arr = [2,8,3,7,5]\n",
    "print(selectionSort(arr))"
   ]
  },
  {
   "cell_type": "markdown",
   "metadata": {},
   "source": [
    "### 4"
   ]
  },
  {
   "cell_type": "markdown",
   "metadata": {},
   "source": [
    "##### a - Stack ADT"
   ]
  },
  {
   "cell_type": "code",
   "execution_count": 99,
   "metadata": {},
   "outputs": [
    {
     "name": "stdout",
     "output_type": "stream",
     "text": [
      "[5, 5]\n",
      "5\n",
      "False\n",
      "[5]\n",
      "5\n",
      "True\n"
     ]
    }
   ],
   "source": [
    "class Stack:\n",
    "    def __init__(self):\n",
    "        self.items = []\n",
    "    def isEmpty(self):\n",
    "        return len(self.items) == 0\n",
    "    def push(self, item):\n",
    "        self.items.append(item)\n",
    "    def pop(self):\n",
    "        if self.isEmpty(): raise Exception('Stack is empty')\n",
    "        return self.items.pop()\n",
    "    def peek(self):\n",
    "        return self.items[-1]\n",
    "    \n",
    "s = Stack()\n",
    "s.push(5)\n",
    "s.push(5)\n",
    "print(s.items)\n",
    "print(s.pop())\n",
    "print(s.isEmpty())\n",
    "print(s.items)\n",
    "print(s.pop())\n",
    "print(s.isEmpty())"
   ]
  },
  {
   "cell_type": "markdown",
   "metadata": {},
   "source": [
    "##### b - Fibonaci series in recursion"
   ]
  },
  {
   "cell_type": "code",
   "execution_count": 100,
   "metadata": {},
   "outputs": [
    {
     "name": "stdout",
     "output_type": "stream",
     "text": [
      "[0, 1, 1, 2, 3, 5, 8]\n",
      "[0, 1, 1, 2, 3, 5, 8, 13, 21, 34, 55, 89, 144, 233]\n"
     ]
    }
   ],
   "source": [
    "def fib(n):\n",
    "    if n <= 1: return n\n",
    "    else:\n",
    "        return fib(n - 1) + fib(n - 2)\n",
    "\n",
    "def fibonaci(n):\n",
    "    series = []\n",
    "    for i in range(n):\n",
    "        series += [fib(i)]\n",
    "    return series\n",
    "\n",
    "print(fibonaci(7))\n",
    "print(fibonaci(14))"
   ]
  },
  {
   "cell_type": "markdown",
   "metadata": {},
   "source": [
    "### 5"
   ]
  },
  {
   "cell_type": "markdown",
   "metadata": {},
   "source": [
    "##### A - quick sort"
   ]
  },
  {
   "cell_type": "code",
   "execution_count": 101,
   "metadata": {},
   "outputs": [
    {
     "name": "stdout",
     "output_type": "stream",
     "text": [
      "[1, 2, 4, 5, 7, 10]\n"
     ]
    }
   ],
   "source": [
    "def quickSort(arr, low = 0, high = None):\n",
    "    if high == None: high = len(arr) - 1\n",
    "    if low < high:\n",
    "        pivot = arr[high]\n",
    "        i = low - 1\n",
    "        for j in range(low, high):\n",
    "            if arr[j] <= pivot:\n",
    "                i += 1\n",
    "                arr[i], arr[j] = arr[j], arr[i]\n",
    "        arr[i + 1], arr[high] = arr[high], arr[i + 1]\n",
    "        quickSort(arr, low, i)\n",
    "        quickSort(arr, i + 2, high)\n",
    "\n",
    "\n",
    "arr = [10, 5, 2, 4, 7, 1]\n",
    "quickSort(arr)\n",
    "print(arr)\n"
   ]
  },
  {
   "cell_type": "markdown",
   "metadata": {},
   "source": [
    "##### b - Queue ADT"
   ]
  },
  {
   "cell_type": "code",
   "execution_count": 102,
   "metadata": {},
   "outputs": [
    {
     "name": "stdout",
     "output_type": "stream",
     "text": [
      "True\n",
      "1\n",
      "1\n",
      "3\n"
     ]
    }
   ],
   "source": [
    "class Queue:\n",
    "    def __init__(self):\n",
    "        self.items = []\n",
    "    def isEmpty(self):\n",
    "        return len(self.items) == 0\n",
    "    def enqueue(self,val):\n",
    "        self.items.append(val)\n",
    "    def dequeue(self):\n",
    "        return self.items.pop(0)\n",
    "    def peek(self):\n",
    "        return self.items[0]\n",
    "    \n",
    "q = Queue()\n",
    "print(q.isEmpty())\n",
    "q.enqueue(1)\n",
    "q.enqueue(3)\n",
    "print(q.peek())\n",
    "print(q.dequeue())\n",
    "print(q.dequeue())\n"
   ]
  },
  {
   "cell_type": "markdown",
   "metadata": {},
   "source": [
    "### 6"
   ]
  },
  {
   "cell_type": "markdown",
   "metadata": {},
   "source": [
    "##### a - Selection Sort"
   ]
  },
  {
   "cell_type": "code",
   "execution_count": 103,
   "metadata": {},
   "outputs": [
    {
     "data": {
      "text/plain": [
       "[1, 2, 4, 5, 7, 10]"
      ]
     },
     "execution_count": 103,
     "metadata": {},
     "output_type": "execute_result"
    }
   ],
   "source": [
    "# function already exists above (3-b)\n",
    "arr = [10, 5, 2, 4, 7, 1]\n",
    "selectionSort(arr)"
   ]
  },
  {
   "cell_type": "markdown",
   "metadata": {},
   "source": [
    "##### b - Linked list"
   ]
  },
  {
   "cell_type": "code",
   "execution_count": 104,
   "metadata": {},
   "outputs": [
    {
     "name": "stdout",
     "output_type": "stream",
     "text": [
      "[1, 2, 3, 4, 5, 6, 7]\n"
     ]
    }
   ],
   "source": [
    "class Node1:\n",
    "    def __init__(self, val, nextv = None):\n",
    "        self.val = val\n",
    "        self.nextv = nextv\n",
    "        \n",
    "class LinkedList:\n",
    "    def __init__(self,arr):\n",
    "        self.head = None\n",
    "        self.arr = self.construct(arr)\n",
    "    def construct(self, arr):\n",
    "        for i in range(-1,-len(arr)-1,-1):\n",
    "            self.head = Node1(arr[i],self.head)\n",
    "    def show(self):\n",
    "        arr, nextv = [self.head.val], self.head.nextv\n",
    "        while nextv != None:\n",
    "            arr.append(nextv.val)\n",
    "            nextv = nextv.nextv\n",
    "        return arr\n",
    "    \n",
    "l = LinkedList([1,2,3,4,5,6,7])\n",
    "print(l.show())\n",
    "        \n"
   ]
  },
  {
   "cell_type": "markdown",
   "metadata": {},
   "source": [
    "### 7"
   ]
  },
  {
   "cell_type": "markdown",
   "metadata": {},
   "source": [
    "##### a - Merge Sort"
   ]
  },
  {
   "cell_type": "code",
   "execution_count": 105,
   "metadata": {},
   "outputs": [
    {
     "name": "stdout",
     "output_type": "stream",
     "text": [
      "[1, 2, 4, 5, 7, 10]\n"
     ]
    }
   ],
   "source": [
    "def mergeSort(arr):\n",
    "    if len(arr) <= 1: return arr\n",
    "    mid = len(arr)//2\n",
    "    left = mergeSort(arr[:mid])\n",
    "    right = mergeSort(arr[mid:])\n",
    "    return merge(left, right)\n",
    "def merge(left, right):\n",
    "    result = []\n",
    "    while left and right:\n",
    "        if left[0] <= right[0]:\n",
    "            result.append(left.pop(0))\n",
    "        else:\n",
    "            result.append(right.pop(0))\n",
    "    result += left\n",
    "    result += right\n",
    "    return result\n",
    "\n",
    "arr = [10, 5, 2, 4, 7, 1]\n",
    "print(mergeSort(arr))\n",
    "    "
   ]
  },
  {
   "cell_type": "markdown",
   "metadata": {},
   "source": [
    "##### b - Stack application"
   ]
  },
  {
   "cell_type": "code",
   "execution_count": 106,
   "metadata": {},
   "outputs": [
    {
     "name": "stdout",
     "output_type": "stream",
     "text": [
      "It's a new day\n",
      "It's a new day Today I'm having my lab\n",
      "It's a new day\n",
      "It's a new day 3rd line\n",
      "It's a new day\n",
      "It's a new day 3rd line\n"
     ]
    }
   ],
   "source": [
    "# let's demonstrate undo redo function\n",
    "# stack already implemented above (4-a)\n",
    "\n",
    "class Writer():\n",
    "    def __init__(self):\n",
    "        self.text = \"\"\n",
    "        self.ud = Stack()\n",
    "        self.rd = Stack()\n",
    "    def show(self):\n",
    "        print(self.text)\n",
    "    def write(self, text):\n",
    "        self.ud.push(self.text)\n",
    "        self.text += text\n",
    "        self.rd.items = []\n",
    "    def undo(self):\n",
    "        if len(self.ud.items) < 2:return\n",
    "        self.rd.push(self.text)\n",
    "        self.text = self.ud.pop()\n",
    "    def redo(self):\n",
    "        if self.rd.isEmpty():return\n",
    "        self.ud.push(self.text)\n",
    "        self.text = self.rd.pop()\n",
    "        \n",
    "a = Writer()\n",
    "a.write(\"It's a new day\")\n",
    "a.show()\n",
    "a.write(\" Today I'm having my lab\")\n",
    "a.show()\n",
    "a.undo()\n",
    "a.show()\n",
    "a.write(' 3rd line')\n",
    "a.show()\n",
    "a.undo()\n",
    "a.show()\n",
    "a.redo()\n",
    "a.show()"
   ]
  },
  {
   "cell_type": "markdown",
   "metadata": {},
   "source": [
    "### 8"
   ]
  },
  {
   "cell_type": "markdown",
   "metadata": {},
   "source": [
    "##### a - Hash Tables"
   ]
  },
  {
   "cell_type": "code",
   "execution_count": 107,
   "metadata": {},
   "outputs": [
    {
     "name": "stdout",
     "output_type": "stream",
     "text": [
      "[45, 1, 2, 3, 4, 5, 75, 86, None, 9]\n"
     ]
    },
    {
     "data": {
      "text/plain": [
       "3"
      ]
     },
     "execution_count": 107,
     "metadata": {},
     "output_type": "execute_result"
    }
   ],
   "source": [
    "def isPrime(n):\n",
    "    for i in range(2,int(n/2)+1):\n",
    "        if n % i == 0:\n",
    "            return False\n",
    "        return True\n",
    "def nextPrime(n):\n",
    "    if isPrime(n): return n\n",
    "    else: return nextPrime(n+1)\n",
    "    \n",
    "def hash(arr):\n",
    "    tableLen = nextPrime(len(arr))\n",
    "    hashTable = [None for _ in range(tableLen)]\n",
    "    for n in arr:\n",
    "        pos = n % tableLen\n",
    "        while hashTable[pos] != None:\n",
    "            pos += 1\n",
    "            if pos == len(hashTable):\n",
    "                pos = 0\n",
    "        hashTable[pos] = n\n",
    "    hashTable.append(tableLen)\n",
    "    return hashTable\n",
    "\n",
    "def search(arr, target):\n",
    "    arr = arr[:-2]\n",
    "    key = arr[-1]\n",
    "    pos = target % key\n",
    "    if arr[pos] == target:\n",
    "        return pos\n",
    "    else:\n",
    "        cur = int(pos)\n",
    "        while arr[pos] != target:\n",
    "            pos += 1\n",
    "            if pos == len(arr): pos = 0\n",
    "            if cur == pos: return -1\n",
    "        return pos\n",
    "    \n",
    "a = hash([1,2,3,4,5,45,75,86])\n",
    "print(a)\n",
    "search(a,3)"
   ]
  },
  {
   "cell_type": "markdown",
   "metadata": {},
   "source": [
    "##### b - Insersion sort"
   ]
  },
  {
   "cell_type": "code",
   "execution_count": 108,
   "metadata": {},
   "outputs": [
    {
     "name": "stdout",
     "output_type": "stream",
     "text": [
      "[1, 2, 4, 5, 7, 10]\n"
     ]
    }
   ],
   "source": [
    "def insersionSort(arr):\n",
    "    for i in range(1, len(arr)):\n",
    "        j = i\n",
    "        while j > 0 and arr[j] < arr[j - 1]:\n",
    "            arr[j], arr[j - 1] = arr[j - 1], arr[j]\n",
    "            j -= 1\n",
    "    return arr\n",
    "\n",
    "arr = [10, 5, 2, 4, 7, 1]\n",
    "print(insersionSort(arr))"
   ]
  },
  {
   "cell_type": "markdown",
   "metadata": {},
   "source": [
    "### 10"
   ]
  },
  {
   "cell_type": "markdown",
   "metadata": {},
   "source": [
    "##### a - Linear search"
   ]
  },
  {
   "cell_type": "code",
   "execution_count": 109,
   "metadata": {},
   "outputs": [
    {
     "name": "stdout",
     "output_type": "stream",
     "text": [
      "[1, 2, 4, 5, 7, 10]\n",
      "4\n",
      "2\n"
     ]
    }
   ],
   "source": [
    "def linearSearch(arr, target):\n",
    "    for i in range(len(arr)):\n",
    "        if arr[i] == target:\n",
    "            return i\n",
    "    return -1\n",
    "\n",
    "print(arr)\n",
    "print(linearSearch(arr, 7))\n",
    "print(linearSearch(arr, 4))"
   ]
  },
  {
   "cell_type": "markdown",
   "metadata": {},
   "source": [
    "##### b - Graph and graph transversal"
   ]
  },
  {
   "cell_type": "code",
   "execution_count": 110,
   "metadata": {},
   "outputs": [
    {
     "name": "stdout",
     "output_type": "stream",
     "text": [
      "{'A', 'C', 'D', 'B'}\n",
      "{'A': [], 'C': [], 'D': [], 'B': []}\n",
      "{'A', 'C', 'D', 'B'}\n",
      "{'A': ['B', 'C'], 'C': ['A', 'D'], 'D': ['C'], 'B': ['A']}\n",
      "['A', 'C', 'D', 'B']\n",
      "['A', 'B', 'C', 'D']\n"
     ]
    }
   ],
   "source": [
    "class graph:\n",
    "    def __init__(self, vertices):\n",
    "        self.vertices = set(vertices)\n",
    "        self.edges = {}\n",
    "        for i in self.vertices:\n",
    "            self.edges[i] = []\n",
    "        print(self.vertices)\n",
    "        print(self.edges)\n",
    "    def addEdge(self,v1,v2):\n",
    "        self.edges[v1] += [v2]\n",
    "        self.edges[v2] += [v1]\n",
    "        \n",
    "    def search(self,start,type='dfs'):\n",
    "        visited = []\n",
    "        store = [start]\n",
    "        while store:\n",
    "            node = store.pop() if type == 'dfs' else store.pop(0)\n",
    "            if node not in visited:\n",
    "                visited.append(node)\n",
    "                for edge in self.edges[node]:\n",
    "                    if edge not in store:\n",
    "                        store.append(edge)\n",
    "        return visited\n",
    "        \n",
    "g = graph(['A','B','C','D'])\n",
    "g.addEdge('A','B')\n",
    "g.addEdge('A','C')\n",
    "g.addEdge('D','C')\n",
    "print(g.vertices)\n",
    "print(g.edges)\n",
    "print(g.search('A','dfs'))\n",
    "print(g.search('A','bfs'))"
   ]
  },
  {
   "cell_type": "code",
   "execution_count": 111,
   "metadata": {},
   "outputs": [
    {
     "name": "stdout",
     "output_type": "stream",
     "text": [
      "A\n",
      "C\n",
      "B\n",
      "--------------------\n",
      "A\n",
      "B\n",
      "C\n",
      "{'A', 'C', 'B'}\n",
      "{'A': ['B', 'C'], 'B': ['A'], 'C': ['A']}\n"
     ]
    }
   ],
   "source": [
    "class Graph:\n",
    "  \"\"\"Graph ADT implementation.\"\"\"\n",
    "\n",
    "  def __init__(self):\n",
    "    \"\"\"Initializes the graph.\"\"\"\n",
    "    self.nodes = set()\n",
    "    self.edges = {}\n",
    "\n",
    "  def add_node(self, node):\n",
    "    \"\"\"Adds a node to the graph.\"\"\"\n",
    "    self.nodes.add(node)\n",
    "    if node not in self.edges:\n",
    "      self.edges[node] = []\n",
    "\n",
    "  def add_edge(self, node1, node2):\n",
    "    \"\"\"Adds an edge between two nodes in the graph.\"\"\"\n",
    "    self.nodes.add(node1)\n",
    "    self.nodes.add(node2)\n",
    "    if node1 not in self.edges:\n",
    "      self.edges[node1] = []\n",
    "    self.edges[node1].append(node2)\n",
    "    if node2 not in self.edges:\n",
    "      self.edges[node2] = []\n",
    "    self.edges[node2].append(node1)\n",
    "\n",
    "  def depth_first_search(self, start_node):\n",
    "    \"\"\"Performs a depth-first search of the graph.\"\"\"\n",
    "    visited = set()\n",
    "    stack = [start_node]\n",
    "    while stack:\n",
    "      node = stack.pop()\n",
    "      if node not in visited:\n",
    "        visited.add(node)\n",
    "        print(node)\n",
    "        for neighbor in self.edges[node]:\n",
    "          if neighbor not in visited:\n",
    "            stack.append(neighbor)\n",
    "\n",
    "  def breadth_first_search(self, start_node):\n",
    "    \"\"\"Performs a breadth-first search of the graph.\"\"\"\n",
    "    visited = set()\n",
    "    queue = [start_node]\n",
    "    while queue:\n",
    "      node = queue.pop(0)\n",
    "      if node not in visited:\n",
    "        visited.add(node)\n",
    "        print(node)\n",
    "        for neighbor in self.edges[node]:\n",
    "          if neighbor not in visited:\n",
    "            queue.append(neighbor)\n",
    "\n",
    "def main():\n",
    "  \"\"\"Main function to test the graph ADT.\"\"\"\n",
    "  graph = Graph()\n",
    "  graph.add_node(\"A\")\n",
    "  graph.add_node(\"B\")\n",
    "  graph.add_node(\"C\")\n",
    "  graph.add_edge(\"A\", \"B\")\n",
    "  graph.add_edge(\"A\", \"C\")\n",
    "  graph.depth_first_search(\"A\")\n",
    "  print(\"-\" * 20)\n",
    "  graph.breadth_first_search(\"A\")\n",
    "  print(graph.nodes)\n",
    "  print(graph.edges)\n",
    "\n",
    "if __name__ == \"__main__\":\n",
    "  main()\n"
   ]
  }
 ],
 "metadata": {
  "kernelspec": {
   "display_name": "base",
   "language": "python",
   "name": "python3"
  },
  "language_info": {
   "codemirror_mode": {
    "name": "ipython",
    "version": 3
   },
   "file_extension": ".py",
   "mimetype": "text/x-python",
   "name": "python",
   "nbconvert_exporter": "python",
   "pygments_lexer": "ipython3",
   "version": "3.11.4"
  },
  "orig_nbformat": 4
 },
 "nbformat": 4,
 "nbformat_minor": 2
}
