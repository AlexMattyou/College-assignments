{
 "cells": [
  {
   "cell_type": "markdown",
   "metadata": {},
   "source": [
    "### 1"
   ]
  },
  {
   "cell_type": "markdown",
   "metadata": {},
   "source": [
    "##### a - Inheritance in python ADT classes"
   ]
  },
  {
   "cell_type": "code",
   "execution_count": 6,
   "metadata": {},
   "outputs": [
    {
     "name": "stdout",
     "output_type": "stream",
     "text": [
      "Guru\n",
      "Alex\n",
      "Manickam\n"
     ]
    }
   ],
   "source": [
    "class User:\n",
    "    def __init__(self, name, age):\n",
    "        self.name = name\n",
    "        self.age = age\n",
    "\n",
    "    def display(self,item):\n",
    "        if item == 'name': print(self.name)\n",
    "        elif item == 'age': print(self.age)\n",
    "\n",
    "class Student(User):\n",
    "    def __init__(self, name, age, department, score):\n",
    "        self.department = department\n",
    "        self.score = score\n",
    "        super().__init__(name, age)\n",
    "\n",
    "class Staff(User):\n",
    "    def __init__(self, name, age, subject, status):\n",
    "        self.subject = subject\n",
    "        self.status = status\n",
    "        super().__init__(name, age)\n",
    "\n",
    "s1 = Student('Guru','18','AI&DS','7.68')\n",
    "s2 = Student('Alex', '18','AI&DS','9.22')\n",
    "p1 = Staff('Manickam', '30','AD','AP')\n",
    "s1.display('name')\n",
    "s2.display('name')\n",
    "p1.display('name')\n"
   ]
  },
  {
   "cell_type": "markdown",
   "metadata": {},
   "source": [
    "##### b - Factorial using recursion"
   ]
  },
  {
   "cell_type": "code",
   "execution_count": 7,
   "metadata": {},
   "outputs": [
    {
     "name": "stdout",
     "output_type": "stream",
     "text": [
      "6\n",
      "120\n",
      "5040\n"
     ]
    }
   ],
   "source": [
    "def factorial(n):\n",
    "    if n < 2:\n",
    "        return 1\n",
    "    return n * factorial(n-1)\n",
    "\n",
    "print(factorial(3))\n",
    "print(factorial(5))\n",
    "print(factorial(7))"
   ]
  },
  {
   "cell_type": "markdown",
   "metadata": {},
   "source": [
    "### 2"
   ]
  },
  {
   "cell_type": "markdown",
   "metadata": {},
   "source": [
    "##### a - recursive binary search"
   ]
  },
  {
   "cell_type": "code",
   "execution_count": 8,
   "metadata": {},
   "outputs": [
    {
     "name": "stdout",
     "output_type": "stream",
     "text": [
      "[24, 35, 39, 82, 84, 94, 94]\n",
      "1\n"
     ]
    }
   ],
   "source": [
    "def binarySearch(arr, target, start = 0, end = None):\n",
    "    if end == None: end = len(arr)\n",
    "    mid = (start + end) // 2\n",
    "    if start == end:\n",
    "        return -1\n",
    "    if arr[mid] == target:\n",
    "        return mid\n",
    "    elif arr[mid] < target:\n",
    "        return binarySearch(arr, target, mid + 1, end)\n",
    "    elif arr[mid] > target:\n",
    "        return binarySearch(arr, target, start, mid)\n",
    "\n",
    "arr = [94,94,82,39,84,24,35]\n",
    "arr.sort()\n",
    "print(arr)\n",
    "print(binarySearch(arr, 35))"
   ]
  },
  {
   "cell_type": "markdown",
   "metadata": {},
   "source": [
    "##### b - Bubble sort"
   ]
  },
  {
   "cell_type": "code",
   "execution_count": 9,
   "metadata": {},
   "outputs": [
    {
     "name": "stdout",
     "output_type": "stream",
     "text": [
      "[2, 3, 3, 5, 7, 7, 9]\n"
     ]
    }
   ],
   "source": [
    "def bubbleSort(arr):\n",
    "    for i in range(len(arr)-1):\n",
    "        for j in range(len(arr)-i-1):\n",
    "            if arr[j] > arr[j+1]:\n",
    "                arr[j],arr[j+1] = arr[j+1],arr[j]\n",
    "    return arr\n",
    "\n",
    "arr = [3,5,7,2,9,3,7]\n",
    "print(bubbleSort(arr))\n"
   ]
  },
  {
   "cell_type": "markdown",
   "metadata": {},
   "source": [
    "### 3"
   ]
  },
  {
   "cell_type": "markdown",
   "metadata": {},
   "source": [
    "##### a - Array in python"
   ]
  },
  {
   "cell_type": "code",
   "execution_count": 10,
   "metadata": {},
   "outputs": [],
   "source": [
    "class Array:\n",
    "    def __init__(self, size):\n",
    "        self.size = size\n",
    "        self.array = []\n",
    "        \n",
    "    def isEmpty(self):\n",
    "        return len(self.array) == 0\n",
    "    def isFull(self):\n",
    "        return len(self.array) == self.size\n",
    "    def append(self,value):\n",
    "        if self.isFull(): raise Exception('Array is already full')\n",
    "        self.array.append(value)\n",
    "    def insert(self,pos,val):\n",
    "        if pos > self.size-1 and self.isFull(): raise Exception('Position index out of range')\n",
    "        self.array.insert(pos,val)\n",
    "    def pop(self,val = -1):\n",
    "        if self.isEmpty(): raise Exception('Array is empty')\n",
    "        return self.array.pop(val)\n",
    "    def display(self):\n",
    "        print(self.array)\n",
    "        \n",
    "a = Array(3)"
   ]
  },
  {
   "cell_type": "code",
   "execution_count": 11,
   "metadata": {},
   "outputs": [
    {
     "name": "stdout",
     "output_type": "stream",
     "text": [
      "[7]\n"
     ]
    }
   ],
   "source": [
    "a.append(7)\n",
    "a.display()"
   ]
  },
  {
   "cell_type": "code",
   "execution_count": 12,
   "metadata": {},
   "outputs": [
    {
     "name": "stdout",
     "output_type": "stream",
     "text": [
      "[7, 8]\n"
     ]
    }
   ],
   "source": [
    "a.append(8)\n",
    "a.display()"
   ]
  },
  {
   "cell_type": "code",
   "execution_count": 13,
   "metadata": {},
   "outputs": [
    {
     "name": "stdout",
     "output_type": "stream",
     "text": [
      "[7]\n"
     ]
    }
   ],
   "source": [
    "a.pop()\n",
    "a.display()"
   ]
  },
  {
   "cell_type": "markdown",
   "metadata": {},
   "source": [
    "##### b - Selection sort"
   ]
  },
  {
   "cell_type": "code",
   "execution_count": 14,
   "metadata": {},
   "outputs": [
    {
     "name": "stdout",
     "output_type": "stream",
     "text": [
      "[2, 3, 5, 7, 8]\n"
     ]
    }
   ],
   "source": [
    "def selectionSort(arr):\n",
    "    for i in range(len(arr)-1):\n",
    "        min = i\n",
    "        for j in range(i+1,len(arr)):\n",
    "            if arr[j]< arr[min]:min = j\n",
    "        arr[i],arr[min] = arr[min],arr[i]\n",
    "    return arr\n",
    "arr = [2,8,3,7,5]\n",
    "print(selectionSort(arr))"
   ]
  },
  {
   "cell_type": "markdown",
   "metadata": {},
   "source": [
    "### 4"
   ]
  },
  {
   "cell_type": "markdown",
   "metadata": {},
   "source": [
    "##### a - Stack ADT"
   ]
  },
  {
   "cell_type": "code",
   "execution_count": 15,
   "metadata": {},
   "outputs": [
    {
     "name": "stdout",
     "output_type": "stream",
     "text": [
      "[5, 5]\n",
      "5\n",
      "False\n",
      "[5]\n",
      "5\n",
      "True\n"
     ]
    }
   ],
   "source": [
    "class Stack:\n",
    "    def __init__(self):\n",
    "        self.items = []\n",
    "    def isEmpty(self):\n",
    "        return len(self.items) == 0\n",
    "    def push(self, item):\n",
    "        self.items.append(item)\n",
    "    def pop(self):\n",
    "        if self.isEmpty(): raise Exception('Stack is empty')\n",
    "        return self.items.pop()\n",
    "    def peek(self):\n",
    "        return self.items[-1]\n",
    "    \n",
    "s = Stack()\n",
    "s.push(5)\n",
    "s.push(5)\n",
    "print(s.items)\n",
    "print(s.pop())\n",
    "print(s.isEmpty())\n",
    "print(s.items)\n",
    "print(s.pop())\n",
    "print(s.isEmpty())"
   ]
  },
  {
   "cell_type": "markdown",
   "metadata": {},
   "source": [
    "##### b - Fibonaci series in recursion"
   ]
  },
  {
   "cell_type": "code",
   "execution_count": 16,
   "metadata": {},
   "outputs": [
    {
     "name": "stdout",
     "output_type": "stream",
     "text": [
      "[0, 1, 1, 2, 3, 5, 8]\n",
      "[0, 1, 1, 2, 3, 5, 8, 13, 21, 34, 55, 89, 144, 233]\n"
     ]
    }
   ],
   "source": [
    "def fib(n):\n",
    "    if n <= 1: return n\n",
    "    else:\n",
    "        return fib(n - 1) + fib(n - 2)\n",
    "\n",
    "def fibonaci(n):\n",
    "    series = []\n",
    "    for i in range(n):\n",
    "        series += [fib(i)]\n",
    "    return series\n",
    "\n",
    "print(fibonaci(7))\n",
    "print(fibonaci(14))"
   ]
  },
  {
   "cell_type": "markdown",
   "metadata": {},
   "source": [
    "### 5"
   ]
  },
  {
   "cell_type": "markdown",
   "metadata": {},
   "source": [
    "##### A - quick sort"
   ]
  },
  {
   "cell_type": "code",
   "execution_count": 41,
   "metadata": {},
   "outputs": [
    {
     "name": "stdout",
     "output_type": "stream",
     "text": [
      "[1, 2, 4, 5, 7, 10]\n"
     ]
    }
   ],
   "source": [
    "def quickSort(arr, low = 0, high = None):\n",
    "    if high == None: high = len(arr) - 1\n",
    "    if low < high:\n",
    "        pivot = arr[high]\n",
    "        i = low - 1\n",
    "        for j in range(low, high):\n",
    "            if arr[j] <= pivot:\n",
    "                i += 1\n",
    "                arr[i], arr[j] = arr[j], arr[i]\n",
    "        arr[i + 1], arr[high] = arr[high], arr[i + 1]\n",
    "        quickSort(arr, low, i)\n",
    "        quickSort(arr, i + 2, high)\n",
    "\n",
    "\n",
    "arr = [10, 5, 2, 4, 7, 1]\n",
    "quickSort(arr)\n",
    "print(arr)\n"
   ]
  },
  {
   "cell_type": "markdown",
   "metadata": {},
   "source": [
    "##### b - Queue ADT"
   ]
  },
  {
   "cell_type": "code",
   "execution_count": 43,
   "metadata": {},
   "outputs": [
    {
     "name": "stdout",
     "output_type": "stream",
     "text": [
      "True\n",
      "1\n",
      "1\n",
      "3\n"
     ]
    }
   ],
   "source": [
    "class Queue:\n",
    "    def __init__(self):\n",
    "        self.items = []\n",
    "    def isEmpty(self):\n",
    "        return len(self.items) == 0\n",
    "    def enqueue(self,val):\n",
    "        self.items.append(val)\n",
    "    def dequeue(self):\n",
    "        return self.items.pop(0)\n",
    "    def peek(self):\n",
    "        return self.items[0]\n",
    "    \n",
    "q = Queue()\n",
    "print(q.isEmpty())\n",
    "q.enqueue(1)\n",
    "q.enqueue(3)\n",
    "print(q.peek())\n",
    "print(q.dequeue())\n",
    "print(q.dequeue())\n"
   ]
  }
 ],
 "metadata": {
  "kernelspec": {
   "display_name": "base",
   "language": "python",
   "name": "python3"
  },
  "language_info": {
   "codemirror_mode": {
    "name": "ipython",
    "version": 3
   },
   "file_extension": ".py",
   "mimetype": "text/x-python",
   "name": "python",
   "nbconvert_exporter": "python",
   "pygments_lexer": "ipython3",
   "version": "3.11.4"
  },
  "orig_nbformat": 4
 },
 "nbformat": 4,
 "nbformat_minor": 2
}
